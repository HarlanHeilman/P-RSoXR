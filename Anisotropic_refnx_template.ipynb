{
 "cells": [
  {
   "cell_type": "markdown",
   "metadata": {},
   "source": [
    "### Workbook for calculating the reflectivity of an anisotropic stratified media"
   ]
  },
  {
   "cell_type": "code",
   "execution_count": 43,
   "metadata": {},
   "outputs": [],
   "source": [
    "#Package Initialization\n",
    "#Refnx is used for structure generation and fitting routines\n",
    "#Ani_Reflect_Model is the custom application for anisotropic media\n",
    "\n",
    "%matplotlib inline\n",
    "\n",
    "# start off with the necessary imports\n",
    "import os.path\n",
    "import numpy as np\n",
    "import matplotlib.pyplot as plt\n",
    "plt.rcParams.update({'font.size': 16})\n",
    "import corner\n",
    "\n",
    "#required modules from refnx\n",
    "from refnx import version as refnx_version\n",
    "from refnx.dataset import ReflectDataset\n",
    "from refnx.analysis import Transform, CurveFitter, Objective\n",
    "from refnx.reflect.ani_reflect_model import *\n",
    "from refnx.reflect.ani_structure import *"
   ]
  },
  {
   "cell_type": "code",
   "execution_count": 15,
   "metadata": {},
   "outputs": [
    {
     "name": "stdout",
     "output_type": "stream",
     "text": [
      "Refnx version - 0.1.11\n",
      "numpy version - 1.18.1\n"
     ]
    }
   ],
   "source": [
    "#Version control\n",
    "print('Refnx version -',refnx_version.version)\n",
    "print('numpy version -',np.version.version)"
   ]
  },
  {
   "cell_type": "markdown",
   "metadata": {},
   "source": [
    "#### Import Dataset here if intersted in fitting"
   ]
  },
  {
   "cell_type": "code",
   "execution_count": 37,
   "metadata": {},
   "outputs": [],
   "source": [
    "data = ReflectDataset('Thelen_250eV.txt')"
   ]
  },
  {
   "cell_type": "code",
   "execution_count": 38,
   "metadata": {},
   "outputs": [
    {
     "data": {
      "text/plain": [
       "<matplotlib.legend.Legend at 0x1e428ff3fc8>"
      ]
     },
     "execution_count": 38,
     "metadata": {},
     "output_type": "execute_result"
    },
    {
     "data": {
      "image/png": "[encoded data removed]",
      "text/plain": [
       "<Figure size 432x288 with 1 Axes>"
      ]
     },
     "metadata": {
      "needs_background": "light"
     },
     "output_type": "display_data"
    }
   ],
   "source": [
    "#Quick plot to verify data\n",
    "data.plot()\n",
    "plt.legend()\n",
    "plt.yscale('log')\n",
    "plt.xlabel('Q')\n",
    "plt.ylabel('logR')\n",
    "plt.legend()"
   ]
  },
  {
   "cell_type": "markdown",
   "metadata": {},
   "source": [
    "### Generate dielectric tensor components for slab assignment\n",
    "\n",
    "#### Isotropic, Uniaxial, and Biaxial (not verified) are supported"
   ]
  },
  {
   "cell_type": "code",
   "execution_count": 19,
   "metadata": {},
   "outputs": [],
   "source": [
    "##Create dielectric tensors\n",
    "#Isotropic media can be either an np.ndarray or complex scalar\n",
    "#Uniaxial media must be 3x3 numpy array\n",
    "#Biaxial media must be 3x3 numpy array\n",
    "\n",
    "Silicon = (0.98805666 + 1j*0.008500482) #From CXRO @ 250eV\n",
    "SiO2 = (0.988016631 + 1j*0.00463295) #From CXRO @ 250eV\n",
    "Pos = (0.994527941 + 1j*0.000375501) # From CXRO @ 250eV\n",
    "Vac = np.eye(3) # Vacuum permativity\n"
   ]
  },
  {
   "cell_type": "markdown",
   "metadata": {},
   "source": [
    "#### Create SLD objects that house the dielectric tensor"
   ]
  },
  {
   "cell_type": "code",
   "execution_count": 20,
   "metadata": {},
   "outputs": [],
   "source": [
    "#Generate SLDs\n",
    "\n",
    "Si_250eV = ani_SLD(Silicon, name='Si')\n",
    "SiO2_250eV = ani_SLD(SiO2, name='SiO2')\n",
    "Pos_250eV = ani_SLD(Pos, name='POS')\n",
    "Vac = ani_SLD(Vac, name=\"Air\")"
   ]
  },
  {
   "cell_type": "markdown",
   "metadata": {},
   "source": [
    "#### Create 'slab' objects that represent a layer in the model\n",
    "\n",
    "'slab' = 'SLD'(thickness, roughness)\n",
    "\n",
    "    --Substrate thickness can be any value (not used in calculation) \n",
    "    --Roughness corresponds to the top of the layer, I.E. The side closest to the superstrate\n",
    "    --Superstrate is not assigned through a 'slab' ~~See structure generation"
   ]
  },
  {
   "cell_type": "code",
   "execution_count": 22,
   "metadata": {},
   "outputs": [],
   "source": [
    "# Generate Slabs\n",
    "# Slab objects are created from SLD objects in this way\n",
    "#Slab = SLD(thickness, roughness)\n",
    "\n",
    "#Create layer for Posaconozole 334k @250eV\n",
    "pos_layer = Pos_250eV(725.44, 3.06)\n",
    "sio2_layer = SiO2_250eV(11.8552,1.9067)\n",
    "substrate = Si_250eV(0,0.1)\n",
    "\n"
   ]
  },
  {
   "cell_type": "markdown",
   "metadata": {},
   "source": [
    "#### Assign fitting parameters\n",
    "\n",
    "    --default is to remain constant\n",
    "    \n",
    "##### List of parameters ~\n",
    "    .thick -> Layer thickness\n",
    "    .rough -> Layer roughness\n",
    "    .sldAvg -> Trace of dielectric tensor (real)\n",
    "    .isldAvg -> Trace of dielectric tensor (imaginary)\n",
    "    .sldxx -> xx component of tensor (real)\n",
    "    .isldxx -> xx component of tensor (imaginary)\n",
    "    .sldyy -> yy component of tensor (real)\n",
    "    .isldyy -> yy component of tensor (imaginary)\n",
    "    .sldzz -> zz component of tensor (real)\n",
    "    .isldzz -> zz component of tensor (imaginary)"
   ]
  },
  {
   "cell_type": "code",
   "execution_count": 11,
   "metadata": {},
   "outputs": [],
   "source": [
    "sio2_layer.thick.setp(bounds=(11.5, 12), vary=True)\n",
    "sio2_layer.rough.setp(bounds=(1.7, 2), vary=True)\n",
    "\n",
    "pos_layer.thick.setp(bounds=(720, 730), vary=True)\n",
    "pos_layer.rough.setp(bounds=(2, 4), vary=True)\n",
    "pos_layer.sld.xx.setp(bounds=(0.95, 1), vary=False)\n",
    "pos_layer.sld.yy.setp(bounds=(0.95, 1), vary=False)\n",
    "pos_layer.sld.zz.setp(bounds=(0.95, 1), vary=False)\n",
    "pos_layer.sld.izz.setp(bounds=(0.95, 1), vary=False)\n",
    "\n",
    "substrate.rough.setp(bounds=(0,1),vary=True)"
   ]
  },
  {
   "cell_type": "markdown",
   "metadata": {},
   "source": [
    "#### Generate the structure object\n",
    "\n",
    "'structure' = superstrate (sld) | top layer (slab) | ... | bottom layer (slab) | substrate (slab)"
   ]
  },
  {
   "cell_type": "code",
   "execution_count": 24,
   "metadata": {},
   "outputs": [],
   "source": [
    "structure = Vac | pos_layer | sio2_layer | substrate"
   ]
  },
  {
   "cell_type": "code",
   "execution_count": 25,
   "metadata": {},
   "outputs": [
    {
     "name": "stdout",
     "output_type": "stream",
     "text": [
      "________________________________________________________________________________\n",
      "Structure:                \n",
      "solvent: None\n",
      "reverse structure: False\n",
      "contract: 0\n",
      "\n",
      "________________________________________________________________________________\n",
      "Parameters:      'Air'     \n",
      "<Parameter: 'Air - thick' , value=0 (fixed)  , bounds=[-inf, inf]>\n",
      "<Parameter:'Air - sldAvg' , value=1 (fixed)  , bounds=[-inf, inf]>\n",
      "<Parameter:'Air - isldAvg', value=0 (fixed)  , bounds=[-inf, inf]>\n",
      "<Parameter: 'Air - sldxx' , value=1 (fixed)  , bounds=[-inf, inf]>\n",
      "<Parameter:'Air - isldxx' , value=0 (fixed)  , bounds=[-inf, inf]>\n",
      "<Parameter: 'Air - sldyy' , value=1 (fixed)  , bounds=[-inf, inf]>\n",
      "<Parameter:'Air - isldyy' , value=0 (fixed)  , bounds=[-inf, inf]>\n",
      "<Parameter: 'Air - sldzz' , value=1 (fixed)  , bounds=[-inf, inf]>\n",
      "<Parameter:'Air - isldzz' , value=0 (fixed)  , bounds=[-inf, inf]>\n",
      "<Parameter: 'Air - rough' , value=0 (fixed)  , bounds=[-inf, inf]>\n",
      "<Parameter:'Air - volfrac solvent', value=0 (fixed)  , bounds=[0.0, 1.0]>\n",
      "________________________________________________________________________________\n",
      "Parameters:      'POS'     \n",
      "<Parameter: 'POS - thick' , value=725.44 (fixed)  , bounds=[-inf, inf]>\n",
      "<Parameter:'POS - sldAvg' , value=0.994528 (fixed)  , bounds=[-inf, inf]>\n",
      "<Parameter:'POS - isldAvg', value=0.000375501 (fixed)  , bounds=[-inf, inf]>\n",
      "<Parameter: 'POS - sldxx' , value=0.994528 (fixed)  , bounds=[-inf, inf]>\n",
      "<Parameter:'POS - isldxx' , value=0.000375501 (fixed)  , bounds=[-inf, inf]>\n",
      "<Parameter: 'POS - sldyy' , value=0.994528 (fixed)  , bounds=[-inf, inf]>\n",
      "<Parameter:'POS - isldyy' , value=0.000375501 (fixed)  , bounds=[-inf, inf]>\n",
      "<Parameter: 'POS - sldzz' , value=0.994528 (fixed)  , bounds=[-inf, inf]>\n",
      "<Parameter:'POS - isldzz' , value=0.000375501 (fixed)  , bounds=[-inf, inf]>\n",
      "<Parameter: 'POS - rough' , value=3.06 (fixed)  , bounds=[-inf, inf]>\n",
      "<Parameter:'POS - volfrac solvent', value=0 (fixed)  , bounds=[0.0, 1.0]>\n",
      "________________________________________________________________________________\n",
      "Parameters:     'SiO2'     \n",
      "<Parameter:'SiO2 - thick' , value=11.8552 (fixed)  , bounds=[-inf, inf]>\n",
      "<Parameter:'SiO2 - sldAvg', value=0.988017 (fixed)  , bounds=[-inf, inf]>\n",
      "<Parameter:'SiO2 - isldAvg', value=0.00463295 (fixed)  , bounds=[-inf, inf]>\n",
      "<Parameter:'SiO2 - sldxx' , value=0.988017 (fixed)  , bounds=[-inf, inf]>\n",
      "<Parameter:'SiO2 - isldxx', value=0.00463295 (fixed)  , bounds=[-inf, inf]>\n",
      "<Parameter:'SiO2 - sldyy' , value=0.988017 (fixed)  , bounds=[-inf, inf]>\n",
      "<Parameter:'SiO2 - isldyy', value=0.00463295 (fixed)  , bounds=[-inf, inf]>\n",
      "<Parameter:'SiO2 - sldzz' , value=0.988017 (fixed)  , bounds=[-inf, inf]>\n",
      "<Parameter:'SiO2 - isldzz', value=0.00463295 (fixed)  , bounds=[-inf, inf]>\n",
      "<Parameter:'SiO2 - rough' , value=1.9067 (fixed)  , bounds=[-inf, inf]>\n",
      "<Parameter:'SiO2 - volfrac solvent', value=0 (fixed)  , bounds=[0.0, 1.0]>\n",
      "________________________________________________________________________________\n",
      "Parameters:      'Si'      \n",
      "<Parameter: 'Si - thick'  , value=0 (fixed)  , bounds=[-inf, inf]>\n",
      "<Parameter: 'Si - sldAvg' , value=0.988057 (fixed)  , bounds=[-inf, inf]>\n",
      "<Parameter:'Si - isldAvg' , value=0.00850048 (fixed)  , bounds=[-inf, inf]>\n",
      "<Parameter: 'Si - sldxx'  , value=0.988057 (fixed)  , bounds=[-inf, inf]>\n",
      "<Parameter: 'Si - isldxx' , value=0.00850048 (fixed)  , bounds=[-inf, inf]>\n",
      "<Parameter: 'Si - sldyy'  , value=0.988057 (fixed)  , bounds=[-inf, inf]>\n",
      "<Parameter: 'Si - isldyy' , value=0.00850048 (fixed)  , bounds=[-inf, inf]>\n",
      "<Parameter: 'Si - sldzz'  , value=0.988057 (fixed)  , bounds=[-inf, inf]>\n",
      "<Parameter: 'Si - isldzz' , value=0.00850048 (fixed)  , bounds=[-inf, inf]>\n",
      "<Parameter: 'Si - rough'  , value=0.1 (fixed)  , bounds=[-inf, inf]>\n",
      "<Parameter:'Si - volfrac solvent', value=0 (fixed)  , bounds=[0.0, 1.0]>\n"
     ]
    }
   ],
   "source": [
    "print(structure)"
   ]
  },
  {
   "cell_type": "markdown",
   "metadata": {},
   "source": [
    "#### Plot SLD Profile\n",
    "    Quick visualization of SLD profile\n",
    "    Plots sldAvg (real) as a function of depth"
   ]
  },
  {
   "cell_type": "code",
   "execution_count": 26,
   "metadata": {},
   "outputs": [],
   "source": [
    "zprof, sldprof, tensorprof = structure.sld_profile()"
   ]
  },
  {
   "cell_type": "code",
   "execution_count": 27,
   "metadata": {},
   "outputs": [
    {
     "data": {
      "image/png": "[encoded data removed]",
      "text/plain": [
       "<Figure size 432x288 with 1 Axes>"
      ]
     },
     "metadata": {
      "needs_background": "light"
     },
     "output_type": "display_data"
    }
   ],
   "source": [
    "#plot results\n",
    "plt.plot()\n",
    "plt.plot(zprof, sldprof[0,:])\n",
    "plt.ylabel('dielectric constant')\n",
    "plt.xlabel('z [A]')\n",
    "plt.show()"
   ]
  },
  {
   "cell_type": "markdown",
   "metadata": {},
   "source": [
    "### Setup scattering model\n",
    "\n",
    "    Inputs\n",
    "        scale  - multiplicative scale\n",
    "        bkg    - additive background\n",
    "        dq     - gaussian q smearing\n",
    "        Energy - List of energies as a numpy array (only 1 unless simulating)\n",
    "        pol    - polarization of the output\n",
    "                   Use 'None' if you want an array containing all 4 outputs 'ss', 'sp', 'ps', 'pp'\n",
    "                   Single output is for current fitting routines as of 06/05/2020"
   ]
  },
  {
   "cell_type": "code",
   "execution_count": 28,
   "metadata": {},
   "outputs": [],
   "source": [
    "# a ReflectModel is made from the Structure.\n",
    "# ReflectModel calculates smeared reflectivity, applies scaling factor and background\n",
    "Energy = np.array([250])\n",
    "model = ani_ReflectModel(structure, scale=1,bkg=0,dq=0,Energy=Energy,pol='s')\n",
    "\n",
    "model.scale.setp(bounds=(0.6, 1.2), vary=False)\n",
    "model.bkg.setp(bounds=(1e-9, 9e-6), vary=False)"
   ]
  },
  {
   "cell_type": "markdown",
   "metadata": {},
   "source": [
    "#### Simulate scattering\n",
    "    Inputs\n",
    "        qvals"
   ]
  },
  {
   "cell_type": "code",
   "execution_count": 32,
   "metadata": {},
   "outputs": [],
   "source": [
    "qvals = np.linspace(0.005,0.25,300)\n",
    "numpnts = len(qvals)\n",
    "model_reflectivity  = model.model(qvals) #TestModelT"
   ]
  },
  {
   "cell_type": "code",
   "execution_count": 35,
   "metadata": {},
   "outputs": [
    {
     "data": {
      "image/png": "[encoded data removed]",
      "text/plain": [
       "<Figure size 432x288 with 1 Axes>"
      ]
     },
     "metadata": {
      "needs_background": "light"
     },
     "output_type": "display_data"
    }
   ],
   "source": [
    "#plot Reflectivity\n",
    "plt.plot()\n",
    "plt.yscale('log')\n",
    "#Single polarization\n",
    "plt.plot(qvals,model_reflectivity[:])\n",
    "#Full plot (0,0 - spol : 1,1 - ppol)\n",
    "#plot.plot(qvals,model_reflectivity[:,0,0],qvals,model_reflectivity[:,1,1])\n",
    "plt.ylabel('Reflectivity')\n",
    "plt.xlabel('q A^-1')\n",
    "plt.show()"
   ]
  },
  {
   "cell_type": "markdown",
   "metadata": {},
   "source": [
    "### Fitting process\n",
    "#### Create an object with the model and data"
   ]
  },
  {
   "cell_type": "code",
   "execution_count": 39,
   "metadata": {},
   "outputs": [],
   "source": [
    "objective = Objective(model, data, transform=Transform('logY'))"
   ]
  },
  {
   "cell_type": "code",
   "execution_count": 40,
   "metadata": {},
   "outputs": [
    {
     "data": {
      "text/plain": [
       "<matplotlib.legend.Legend at 0x1e428f404c8>"
      ]
     },
     "execution_count": 40,
     "metadata": {},
     "output_type": "execute_result"
    },
    {
     "data": {
      "image/png": "[encoded data removed]",
      "text/plain": [
       "<Figure size 432x288 with 1 Axes>"
      ]
     },
     "metadata": {
      "needs_background": "light"
     },
     "output_type": "display_data"
    }
   ],
   "source": [
    "# an Objective has a plot method, which is a quick visualisation. You need\n",
    "# matplotlib installed to create a graph\n",
    "objective.plot()\n",
    "plt.legend()\n",
    "plt.xlabel('Q')\n",
    "plt.ylabel('logR')\n",
    "plt.legend()"
   ]
  },
  {
   "cell_type": "code",
   "execution_count": 23,
   "metadata": {},
   "outputs": [],
   "source": [
    "# CurveFitters do the fitting/sampling\n",
    "fitter = CurveFitter(objective)"
   ]
  },
  {
   "cell_type": "code",
   "execution_count": null,
   "metadata": {},
   "outputs": [],
   "source": [
    "# do an initial fit with differential evolution\n",
    "res = fitter.fit('differential_evolution')"
   ]
  },
  {
   "cell_type": "markdown",
   "metadata": {},
   "source": [
    "### Quick MCMC routine \n",
    "#### From refnx tutorial ~"
   ]
  },
  {
   "cell_type": "code",
   "execution_count": null,
   "metadata": {},
   "outputs": [
    {
     "name": "stderr",
     "output_type": "stream",
     "text": [
      " 19%|█▉        | 38/200 [10:41<46:43, 17.30s/it]  "
     ]
    }
   ],
   "source": [
    "fitter.sample(200)\n",
    "fitter.reset()"
   ]
  },
  {
   "cell_type": "code",
   "execution_count": null,
   "metadata": {},
   "outputs": [],
   "source": [
    "res = fitter.sample(15, nthin=100)"
   ]
  },
  {
   "cell_type": "code",
   "execution_count": 42,
   "metadata": {},
   "outputs": [],
   "source": [
    "#print(objective)"
   ]
  },
  {
   "cell_type": "code",
   "execution_count": null,
   "metadata": {},
   "outputs": [],
   "source": [
    "objective.corner();"
   ]
  },
  {
   "cell_type": "code",
   "execution_count": null,
   "metadata": {},
   "outputs": [],
   "source": [
    "objective.plot(samples=300);"
   ]
  }
 ],
 "metadata": {
  "kernelspec": {
   "display_name": "Python 3",
   "language": "python",
   "name": "python3"
  },
  "language_info": {
   "codemirror_mode": {
    "name": "ipython",
    "version": 3
   },
   "file_extension": ".py",
   "mimetype": "text/x-python",
   "name": "python",
   "nbconvert_exporter": "python",
   "pygments_lexer": "ipython3",
   "version": "3.8.5"
  }
 },
 "nbformat": 4,
 "nbformat_minor": 4
}
