{
 "cells": [
  {
   "cell_type": "code",
   "execution_count": 1,
   "metadata": {},
   "outputs": [],
   "source": [
    "##Initialization\n",
    "%matplotlib inline\n",
    "\n",
    "import numpy as np\n",
    "import matplotlib.pyplot as plt\n",
    "#import PyATMM as ATMM\n",
    "\n",
    "from PyATMM.uniaxialTransferMatrix import *\n",
    "from PyATMM.isotropicTransferMatrix import *\n",
    "from PyATMM.transferMatrix import solve_transfer_matrix\n",
    "\n",
    "\n",
    "##Define constants that will be used later\n",
    "hc = 1239.84193 ##ev*nm\n",
    "c = 299792458.\n",
    "mu0 = 4. * np.pi * 1e-7\n",
    "ep0 = 1. / (c**2 * mu0)"
   ]
  },
  {
   "cell_type": "markdown",
   "metadata": {},
   "source": [
    "## User Inputs \n",
    "\n",
    "#### E           - Photon energy (currently working with a single energy scan)\n",
    "\n",
    "#### theta_start - The start angle for the rocking scan\n",
    "\n",
    "#### theta_end   - The end angle for the rocking scan\n",
    "\n",
    "#### numpnts     - The number of points in your theta scan\n",
    "\n",
    "Q-vector will be calculated from these settings "
   ]
  },
  {
   "cell_type": "code",
   "execution_count": 8,
   "metadata": {},
   "outputs": [],
   "source": [
    "##User Input##\n",
    "#Energy\n",
    "E = 250. ##eV\n",
    "#Start angle\n",
    "theta_start = 1.2 #deg\n",
    "#End angle\n",
    "theta_end = 80 #deg\n",
    "#number of points to simulate\n",
    "numpnts = 1000\n",
    "\n",
    "\n",
    "##Initialize user inputs\n",
    "wl = hc/E * 10 #calc wavelength in A\n",
    "theta_scan = np.linspace(theta_start,theta_end,numpnts)*np.pi/180\n",
    "qvals = (4*np.pi/wl) * np.sin(theta_scan)\n",
    "\n",
    "\n",
    "wls = np.array([wl*1e-10]) ##convert wl to m for later calculations\n",
    "freq = 2*np.pi * c/wls #Angular frequency\n",
    "\n",
    "theta_exp = np.pi/2 - theta_scan# np.pi/2 - theta_scan ##Inverted for TMM calculation w/ 0deg --> normal to surface\n",
    "theta_deg = np.linspace(theta_start,theta_end,numpnts) #for reality checks\n"
   ]
  },
  {
   "cell_type": "markdown",
   "metadata": {},
   "source": [
    "## Optical tensor definitions\n",
    "\n",
    "Create optical tensors for each slab as 2x1 numpy arrays in the form: \n",
    "\n",
    "e = (e_o, e_e) \n",
    "\n",
    "where e_o is the ordinary component and e_e is the extraordinary "
   ]
  },
  {
   "cell_type": "code",
   "execution_count": 9,
   "metadata": {},
   "outputs": [],
   "source": [
    "#define the optical tensor for each layer\n",
    "\n",
    "##Testing comparison w/ ReMagX fake tensors\n",
    "Silicon_Tensor = np.array([0.988+ 1j*0.009,0.988+ 1j*0.009])# * ep0 # \n",
    "\n",
    "Air_Tensor = np.array([1,1]) # *ep0\n",
    "\n",
    "epsilon_1_xx = (1.008 + 1j*0.008)\n",
    "epsilon_1_zz = (1.014 + 1j*0.004) \n",
    "epsilon_2_xx = (1.004 + 1j*0.002) \n",
    "epsilon_2_zz = (1.010 + 1j*0.002)\n",
    "\n",
    "Val1 = (0.994973599 + 1j*0.000284496)\n",
    "\n",
    "#epsilon_1_xx = (1.00086 + 1j*0.0002)\n",
    "#epsilon_1_zz = (1.00098 + 1j*0.00038) \n",
    "##epsilon_2_xx = (1.0038 + 1j*0.00304) \n",
    "#epsilon_2_zz = (0.9996 + 1j*0)\n",
    "\n",
    "epsilon_1 = np.array([epsilon_1_xx,epsilon_1_zz])# * ep0\n",
    "epsilon_2 = np.array([epsilon_2_xx,epsilon_2_xx])# * ep0\n"
   ]
  },
  {
   "cell_type": "markdown",
   "metadata": {},
   "source": [
    "### Create slab model from optical tensors\n",
    "\n",
    "#### [Surface , Top Layer , ... , Bottom layer, Substrate]"
   ]
  },
  {
   "cell_type": "code",
   "execution_count": 10,
   "metadata": {},
   "outputs": [],
   "source": [
    "##Consolidate the structure of the film as a multilayer\n",
    "\n",
    "#epsilon = [Silicon_epsilon,SiO2_epsilon,Air_epsilon]\n",
    "#epsilon = [Air_epsilon,TCT_epsilon_1pt1,Silicon_epsilon]\n",
    "#epsilon = [Air_epsilon,Surface_res,TCT_epsilon_res,Silicon_epsilon_res]\n",
    "#epsilon = [Silicon_epsilon,SiO2_epsilon,Air_epsilon]\n",
    "\n",
    "#epsilon = [Air_epsilon, Silicon_epsilon]\n",
    "#epsilon = [Silicon_epsilon,Air_epsilon]\n",
    "\n",
    "#epsilon = [layer1,layer2,layer3,layer4,layer5]\n",
    "epsilon = [Air_Tensor, epsilon_1, Silicon_Tensor]"
   ]
  },
  {
   "cell_type": "markdown",
   "metadata": {},
   "source": [
    "### Assign thickness to each slab\n",
    "\n",
    "Order follows the slab model defined above. All units in meters\n",
    "\n",
    "End layers don't seem to matter, I keep them as 'np.inf'"
   ]
  },
  {
   "cell_type": "code",
   "execution_count": 11,
   "metadata": {},
   "outputs": [],
   "source": [
    "#Define the thicknes and roughness of each layer ##must match the size of the multilayer\n",
    "#d = np.array([np.inf,500e-10,np.inf])\n",
    "#d = np.array([np.inf, 15e-10,710e-10, np.inf])\n",
    "#d = np.array([np.inf, 1e-7, 2.3e-7, 0.1e-7, np.inf])\n",
    "#d = np.array([np.inf,5e-6,np.inf])\n",
    "#d = np.array([np.inf,np.inf])\n",
    "\n",
    "d = np.array([np.inf, 500e-10, np.inf])\n",
    "r = np.array([0, 0, 0])"
   ]
  },
  {
   "cell_type": "markdown",
   "metadata": {},
   "source": [
    "#### Generate Transfer Matrix using PyATMM & Calculate reflectivity"
   ]
  },
  {
   "cell_type": "code",
   "execution_count": 12,
   "metadata": {},
   "outputs": [],
   "source": [
    "#Some initialization\n",
    "OpticAxis = np.array([0.,0.,1])\n",
    "\n",
    "nlayers = len(d)\n",
    "D = np.zeros((4, 4, nlayers), dtype=complex) ##dynamic matrices for each layer\n",
    "P = np.zeros((4, 4, nlayers), dtype=complex) ##Propogation matrices for each layer\n",
    "W = np.zeros((4, 4, nlayers), dtype=complex) ##Roughness Matric\n",
    "g = np.zeros((4, nlayers), dtype=complex)\n",
    "\n",
    "Reflect_SS = np.zeros(numpnts) ##reflectivity of Spol\n",
    "Reflect_PP = np.zeros(numpnts) ##reflectivty of Ppol\n",
    "Reflect_SP = np.zeros(numpnts) ##reflectivity of Spol to Ppol\n",
    "Reflect_PS = np.zeros(numpnts) ##reflectivity of Ppol to Spol\n",
    "\n",
    "for j, theta in enumerate(theta_exp):\n",
    "    kx = (2 * np.pi / wls[0]) * np.sin(theta)\n",
    "    ky = 0 ##Not worried about any biaxial nature to my matrix\n",
    "    for i in range(nlayers):\n",
    "        D[:,:,i] = build_uniaxial_dynamic_matrix(epsilon[i][0], epsilon[i][1], freq[0], kx, ky, OpticAxis)\n",
    "        g[:,i] = build_uniaxial_transmitted_wavevectors(epsilon[i][0], epsilon[i][1], freq[0], kx, ky, OpticAxis)\n",
    "\n",
    "    for i in range(1,nlayers-1):\n",
    "        P[:,:,i] = build_uniaxial_propagation_matrix(epsilon[i][0], epsilon[i][1], freq[0], kx, ky, d[i], OpticAxis)\n",
    "    for i in range(nlayers):\n",
    "        eplus = np.exp(-(g[:,i] + g[:,i-1])**2 * r[i]**2 / 2) \n",
    "        eminus = np.exp(-(g[:,i] - g[:,i-1])**2 * r[i]**2 / 2)\n",
    "\n",
    "        W[:,:,i] = [[eminus[0],eplus[1],eminus[2],eplus[3]],\n",
    "                    [eplus[0],eminus[1],eplus[2],eminus[3]],\n",
    "                    [eminus[0],eplus[1],eminus[2],eplus[3]],\n",
    "                    [eplus[0],eminus[1],eplus[2],eminus[3]]\n",
    "                       ]\n",
    "    M = np.identity(4, dtype=complex)\n",
    "    for i in range(1,nlayers-1):\n",
    "        M = np.dot(M, np.dot((np.dot(np.linalg.inv(D[:,:,i-1]),D[:,:,i]) * W[:,:,i]) , P[:,:,i]))\n",
    "    M = np.dot(M,(np.dot(np.linalg.inv(D[:,:,-2]),D[:,:,-1]) * W[:,:,-1]))\n",
    "    \n",
    "    \n",
    "    r_ss, r_sp, r_ps, r_pp, t_ss, t_sp, t_ps, t_pp = solve_transfer_matrix(M)\n",
    "    Reflect_SS[j] = np.abs(r_ss)**2\n",
    "    Reflect_PP[j] = np.abs(r_pp)**2\n",
    "    "
   ]
  },
  {
   "cell_type": "markdown",
   "metadata": {},
   "source": [
    "#### A simple plot"
   ]
  },
  {
   "cell_type": "code",
   "execution_count": 13,
   "metadata": {},
   "outputs": [
    {
     "data": {
      "image/png": "[encoded data removed]",
      "text/plain": [
       "<Figure size 432x288 with 1 Axes>"
      ]
     },
     "metadata": {
      "needs_background": "light"
     },
     "output_type": "display_data"
    }
   ],
   "source": [
    "#plot results\n",
    "plt.plot()\n",
    "plt.yscale('log')\n",
    "plt.plot(qvals,Reflect_SS,qvals,Reflect_PP)\n",
    "plt.ylabel('test')\n",
    "plt.xlabel('q A^-1')\n",
    "plt.show()"
   ]
  },
  {
   "cell_type": "code",
   "execution_count": 16,
   "metadata": {},
   "outputs": [],
   "source": [
    "##Save results\n",
    "saveQ = qvals.reshape(numpnts,1)\n",
    "saveRS = Reflect_SS.reshape(numpnts,1)\n",
    "saveRP = Reflect_PP.reshape(numpnts,1)\n",
    "np.savetxt('qValsATMM.csv',(saveQ),delimiter=',')\n",
    "np.savetxt('ReflectSATMM.csv',(saveRS),delimiter=',')\n",
    "np.savetxt('ReflectPATMM.csv',(saveRP),delimiter=',')"
   ]
  },
  {
   "cell_type": "code",
   "execution_count": 28,
   "metadata": {},
   "outputs": [
    {
     "name": "stdout",
     "output_type": "stream",
     "text": [
      "[1.94518141e-04 9.12576492e-05] [1.10220572e-04 2.77835772e-06]\n"
     ]
    }
   ],
   "source": [
    "print(Reflect_SS,Reflect_PP)"
   ]
  },
  {
   "cell_type": "code",
   "execution_count": null,
   "metadata": {},
   "outputs": [],
   "source": []
  }
 ],
 "metadata": {
  "kernelspec": {
   "display_name": "Python 3",
   "language": "python",
   "name": "python3"
  },
  "language_info": {
   "codemirror_mode": {
    "name": "ipython",
    "version": 3
   },
   "file_extension": ".py",
   "mimetype": "text/x-python",
   "name": "python",
   "nbconvert_exporter": "python",
   "pygments_lexer": "ipython3",
   "version": "3.7.4"
  }
 },
 "nbformat": 4,
 "nbformat_minor": 4
}
