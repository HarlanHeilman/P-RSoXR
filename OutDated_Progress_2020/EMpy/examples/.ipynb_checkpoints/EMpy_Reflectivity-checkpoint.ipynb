{
 "cells": [
  {
   "cell_type": "code",
   "execution_count": 1,
   "metadata": {},
   "outputs": [],
   "source": [
    "##Initialization\n",
    "%matplotlib inline\n",
    "\n",
    "import EMpy\n",
    "import numpy as np\n",
    "import matplotlib.pyplot as plt\n",
    "\n",
    "\n",
    "##Define constants that will be used later\n",
    "hc = 1239.84193 ##ev*nm\n",
    "c = 299792458.\n",
    "mu0 = 4. * np.pi * 1e-7\n",
    "ep0 = 1. / (c**2 * mu0)"
   ]
  },
  {
   "cell_type": "code",
   "execution_count": 2,
   "metadata": {},
   "outputs": [],
   "source": [
    "##User Input##\n",
    "#Energy\n",
    "E = 250. ##eV\n",
    "#Start angle\n",
    "theta_start = 1.2 #deg\n",
    "#End angle\n",
    "theta_end = 80 #deg\n",
    "#number of points to simulate\n",
    "numpnts = 1000\n",
    "\n",
    "\n",
    "##Initialize\n",
    "wl = hc/E * 10 #calc wavelength in A\n",
    "theta_scan = np.linspace(theta_start,theta_end,numpnts)*np.pi/180\n",
    "qvals = (4*np.pi/wl) * np.sin(theta_scan)\n",
    "\n",
    "Reflect_SS = np.zeros(numpnts) ##reflectivity of Spol\n",
    "Reflect_PP = np.zeros(numpnts) ##reflectivty of Ppol\n",
    "Reflect_SP = np.zeros(numpnts) ##reflectivity of Spol\n",
    "Reflect_PS = np.zeros(numpnts) ##reflectivity of Spol\n",
    "\n",
    "\n",
    "wls = np.array([wl*1e-10]) ##convert wl to m for later calculations\n",
    "theta_exp = np.pi/2 - theta_scan ##Inverted for TMM calculation w/ 0deg --> normal to surface\n",
    "theta_deg = np.linspace(theta_start,theta_end,numpnts) #for reality checks"
   ]
  },
  {
   "cell_type": "code",
   "execution_count": 3,
   "metadata": {},
   "outputs": [],
   "source": [
    "#define the optical tensor for each layer\n",
    "##Silicon\n",
    "##SiO2\n",
    "##TCT\n",
    "#Air\n",
    "#From Jacob optical parameters #250eV\n",
    "Silicon_epsilon = (0.98805666 + 1j*0.008500482)  * np.eye(3) * ep0\n",
    "SiO2_epsilon = (0.988016631 + 1j*0.00463295) * np.eye(3) * ep0\n",
    "TCT_epsilon = (0.994973599 + 1j*0.000284496) * np.eye(3) * ep0\n",
    "TCT_epsilon_1pt1 = (0.995663497 + 1j*0.000245447) * np.eye(3) * ep0\n",
    "\n",
    "#From Jacob optical parameters #\n",
    "Silicon_epsilon_res = (0.990206998 + 1j*0.005603499)  * np.eye(3) * ep0\n",
    "exx = 1.00086 + 1j*0.0002\n",
    "ezz = 1.00098 + 1j*0.00038\n",
    "TCT_epsilon_res = np.diag([exx,exx,ezz])*ep0\n",
    "\n",
    "exx_s = 1.00038 + 1j*0.00304\n",
    "ezz_s = 0.99996 + 1j*0\n",
    "Surface_res = np.diag([exx_s,exx_s,ezz_s])*ep0\n",
    "\n",
    "Air_epsilon = np.eye(3)*ep0\n",
    "##Testing comparison w/ ReMagX fake tensors\n",
    "Silicon_Tensor = (0.988 + 1j*0.009) * np.eye(3) * ep0\n",
    "\n",
    "epsilon_1_xx = (1.008 + 1j*0.008)\n",
    "epsilon_1_zz = (1.014 + 1j*0.004) \n",
    "epsilon_2_xx = (1.004 + 1j*0.002) \n",
    "epsilon_2_zz = (1.010 + 1j*0.002)\n",
    "\n",
    "epsilon_1 = np.diag([epsilon_1_xx,epsilon_1_xx,epsilon_1_xx]) * ep0\n",
    "epsilon_2 = np.diag([epsilon_2_xx,epsilon_2_xx,epsilon_2_xx]) * ep0\n",
    "##From EMpy example tensor\n",
    "\n",
    "layer1 = 1**2* np.eye(3)* ep0\n",
    "layer2 = np.diag([2.1, 2.0, 1.9])* ep0\n",
    "layer3 = 2.3 ** 2 * np.eye(3)* ep0\n",
    "layer4 = 4.3 ** 2 *  np.eye(3)* ep0\n",
    "layer5 = 3.0 ** 2 * np.eye(3)* ep0\n",
    "\n",
    "##Optical wavelengths\n",
    "Silicon_optical = (18.707 + 1j*0.63853) * np.eye(3) * ep0\n",
    "Random_optical = (15. + 1j*0.5) * np.eye(3) *ep0\n",
    "Air_optical = np.eye(3) * ep0\n",
    "\n"
   ]
  },
  {
   "cell_type": "code",
   "execution_count": 4,
   "metadata": {},
   "outputs": [],
   "source": [
    "##Consolidate the structure of the film as a multilayer\n",
    "\n",
    "#epsilon = [Silicon_epsilon,SiO2_epsilon,Air_epsilon]\n",
    "#epsilon = [Air_epsilon,TCT_epsilon_1pt1,Silicon_epsilon]\n",
    "#epsilon = [Air_epsilon,Surface_res,TCT_epsilon_res,Silicon_epsilon_res]\n",
    "#epsilon = [Silicon_epsilon,SiO2_epsilon,Air_epsilon]\n",
    "#epsilon = [Air_epsilon, Silicon_epsilon]\n",
    "#epsilon = [Silicon_epsilon,Air_epsilon]\n",
    "#epsilon = [layer1,layer2,layer3,layer4,layer5]\n",
    "#epsilon = [layer4,layer3,layer1]\n",
    "#epsilon = [Silicon_optical,Random_optical,Air_optical]\n",
    "epsilon = [Air_epsilon,epsilon_2, Silicon_Tensor  ]\n",
    "#print(epsilon)"
   ]
  },
  {
   "cell_type": "code",
   "execution_count": 5,
   "metadata": {},
   "outputs": [],
   "source": [
    "#Define the thicknes of each layer ##must match the size of the multilayer\n",
    "#d = np.array([np.inf,500e-10,np.inf])\n",
    "#d = np.array([np.inf, 15e-10,710e-10, np.inf])\n",
    "#d = np.array([np.inf, 1e-7, 2.3e-7, 0.1e-7, np.inf])\n",
    "#d = np.array([np.inf,5e-6,np.inf])\n",
    "#d = np.array([np.inf,np.inf])\n",
    "\n",
    "d = np.array([np.inf,300e-10, np.inf])"
   ]
  },
  {
   "cell_type": "code",
   "execution_count": 6,
   "metadata": {},
   "outputs": [],
   "source": [
    "##Generate the multilayer Object for EMPy\n",
    "aniso_layers = EMpy.utils.Multilayer()\n",
    "for i in range(len(epsilon)):\n",
    "    eps = EMpy.materials.EpsilonTensor(epsilon[i] * np.eye(3))\n",
    "    mat = EMpy.materials.AnisotropicMaterial('layer_%d' % i, eps)\n",
    "    layer = EMpy.utils.Layer(mat, d[i])\n",
    "    aniso_layers.append(layer)\n"
   ]
  },
  {
   "cell_type": "code",
   "execution_count": 7,
   "metadata": {},
   "outputs": [],
   "source": [
    "#Calculate the reflectivity\n",
    "for i,theta in enumerate(theta_exp):\n",
    "    tm = EMpy.transfer_matrix.AnisotropicTransferMatrix(aniso_layers,theta,0)\n",
    "    solution_aniso = tm.solve(wls)\n",
    "   # print(solution_aniso.R)\n",
    "    Reflect_SS[i] = solution_aniso.R[0,0,0]\n",
    "    Reflect_SP[i] = solution_aniso.R[0,1,0]\n",
    "    Reflect_PP[i] = solution_aniso.R[1,1,0]\n",
    "    Reflect_PS[i] = solution_aniso.R[1,0,0]"
   ]
  },
  {
   "cell_type": "code",
   "execution_count": 8,
   "metadata": {},
   "outputs": [
    {
     "data": {
      "image/png": "[encoded data removed]",
      "text/plain": [
       "<Figure size 432x288 with 1 Axes>"
      ]
     },
     "metadata": {
      "needs_background": "light"
     },
     "output_type": "display_data"
    }
   ],
   "source": [
    "#plot results\n",
    "plt.plot()\n",
    "plt.yscale('log')\n",
    "plt.plot(qvals,Reflect_SS,qvals,Reflect_PP*0.001)\n",
    "plt.ylabel('test')\n",
    "plt.xlabel('q A^-1')\n",
    "plt.show()"
   ]
  },
  {
   "cell_type": "code",
   "execution_count": 9,
   "metadata": {},
   "outputs": [],
   "source": [
    "##Save results\n",
    "saveQ = qvals.reshape(numpnts,1)\n",
    "saveRS = Reflect_SS.reshape(numpnts,1)\n",
    "saveRP = Reflect_PP.reshape(numpnts,1)\n",
    "np.savetxt('qVals.csv',(saveQ),delimiter=',')\n",
    "np.savetxt('ReflectS.csv',(saveRS),delimiter=',')\n",
    "np.savetxt('ReflectP.csv',(saveRP),delimiter=',')"
   ]
  },
  {
   "cell_type": "code",
   "execution_count": 10,
   "metadata": {},
   "outputs": [
    {
     "name": "stdout",
     "output_type": "stream",
     "text": [
      "[[[1.59284138e-05]\n",
      "  [0.00000000e+00]]\n",
      "\n",
      " [[0.00000000e+00]\n",
      "  [1.40554558e-05]]]\n"
     ]
    }
   ],
   "source": [
    "print(solution_aniso.R[:,:])"
   ]
  },
  {
   "cell_type": "code",
   "execution_count": null,
   "metadata": {},
   "outputs": [],
   "source": [
    "a = np.array([[0,1,2,3],[4,5,6,7],[8,9,10,11],[11,12,13,14]])"
   ]
  },
  {
   "cell_type": "code",
   "execution_count": null,
   "metadata": {},
   "outputs": [],
   "source": [
    "print(a.shape)"
   ]
  },
  {
   "cell_type": "code",
   "execution_count": null,
   "metadata": {},
   "outputs": [],
   "source": [
    "print(a[:2,0])"
   ]
  },
  {
   "cell_type": "code",
   "execution_count": null,
   "metadata": {},
   "outputs": [],
   "source": [
    "aa = [0,1,2]"
   ]
  },
  {
   "cell_type": "code",
   "execution_count": null,
   "metadata": {},
   "outputs": [],
   "source": [
    "print(aa[-2])"
   ]
  },
  {
   "cell_type": "code",
   "execution_count": null,
   "metadata": {},
   "outputs": [],
   "source": []
  }
 ],
 "metadata": {
  "kernelspec": {
   "display_name": "Python 3",
   "language": "python",
   "name": "python3"
  },
  "language_info": {
   "codemirror_mode": {
    "name": "ipython",
    "version": 3
   },
   "file_extension": ".py",
   "mimetype": "text/x-python",
   "name": "python",
   "nbconvert_exporter": "python",
   "pygments_lexer": "ipython3",
   "version": "3.7.4"
  }
 },
 "nbformat": 4,
 "nbformat_minor": 4
}
