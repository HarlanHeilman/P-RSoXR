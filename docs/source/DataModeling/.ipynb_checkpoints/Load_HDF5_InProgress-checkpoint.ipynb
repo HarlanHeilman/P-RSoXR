{
 "cells": [
  {
   "cell_type": "code",
   "execution_count": 1,
   "id": "surprised-trash",
   "metadata": {},
   "outputs": [
    {
     "name": "stdout",
     "output_type": "stream",
     "text": [
      "Initialization Complete\n"
     ]
    }
   ],
   "source": [
    "%matplotlib inline\n",
    "\"\"\"\n",
    "\n",
    "Input file for running MCMC fits with refnx structure\n",
    "Updated 06/09/2021 for better scripting\n",
    "\n",
    "\"\"\"\n",
    "import os.path\n",
    "import sys\n",
    "import h5py\n",
    "import numpy as np\n",
    "import matplotlib.pyplot as plt\n",
    "import pickle\n",
    "import pandas as pd\n",
    "import corner\n",
    "\n",
    "#Version Information\n",
    "from refnx import version as refnx_version\n",
    "\n",
    "#required modules from refnx\n",
    "from refnx.dataset import ReflectDataset #Data to load into Refnx\n",
    "from refnx.analysis import Transform, CurveFitter, Objective, GlobalObjective, Parameter, integrated_time #Requirements to run MCMC fits\n",
    "from refnx.analysis import process_chain, load_chain, autocorrelation_chain\n",
    "from refnx._lib.emcee.moves.de import * #Differential Evolution MCMC move - typically used in these fits\n",
    "\n",
    "sys.path.append(\"C:/users/tjf2/Documents/Github/P-RSoXR/\")\n",
    "\n",
    "from ani_reflect.ani_reflect_model import *\n",
    "from ani_reflect.ani_structure import *\n",
    "#Optional posterior constraints\n",
    "from ani_reflect.Logp_constraints import LogpExtra_rough\n",
    "from ani_reflect.utilities import load_prsoxr_hdf5, build_tensor\n",
    "#Move options\n",
    "\n",
    "print('Initialization Complete')"
   ]
  },
  {
   "cell_type": "code",
   "execution_count": 2,
   "id": "dental-diary",
   "metadata": {},
   "outputs": [],
   "source": [
    "\"\"\"\n",
    "Info on sample to load:\n",
    "\n",
    "path_f : str\n",
    "    Path to the file to be loaded.\n",
    "data_f : str\n",
    "    Name of the file to be loaded. Should be an HDF5 file that contains all energies/polarizations for the sample\n",
    "load_f : dict.\n",
    "    Composite dictionary of all data in HDF5 file. Separated by keys w/ energy and polarization.\n",
    "\"\"\"\n",
    "\n",
    "path_f = 'C:/Users/tjf2/Documents/P_RSOXS/raw_data_storage/dsaph_alq3_bilayers/'\n",
    "data_c = 'MF114C.hdf5'\n",
    "data_a = 'MF114A.hdf5'\n",
    "data_old = 'MF114Old.hdf5'\n",
    "\n",
    "load_c = load_prsoxr_hdf5(data_c, path_f)\n",
    "load_a = load_prsoxr_hdf5(data_a, path_f)\n",
    "load_old = load_prsoxr_hdf5(data_old, path_f)"
   ]
  },
  {
   "cell_type": "code",
   "execution_count": 3,
   "id": "tracked-default",
   "metadata": {},
   "outputs": [],
   "source": [
    "\"\"\"\n",
    "Information on output:\n",
    "\"\"\"\n",
    "\n",
    "path_save = 'C:/Users/tjf2/Documents/P_RSOXS/MixedPhase_Reflectivity/MF114C/'\n",
    "name_save = 'MF114C'"
   ]
  },
  {
   "cell_type": "code",
   "execution_count": 4,
   "id": "devoted-pharmacology",
   "metadata": {},
   "outputs": [],
   "source": [
    "\"\"\"\n",
    "Data to load\n",
    "\"\"\"\n",
    "data_c_e2_s = load_c['en2']['p100']\n",
    "data_c_e2_p = load_c['en2']['p190']\n",
    "\n",
    "data_c_e3_s = load_c['en3']['p100']\n",
    "data_c_e3_p = load_c['en3']['p190']\n",
    "\n",
    "data_a_e2_s = load_a['en2']['p100']\n",
    "data_a_e2_p = load_a['en2']['p190']\n",
    "\n",
    "data_a_e4_s = load_a['en4']['p100']\n",
    "data_a_e4_p = load_a['en4']['p190']\n",
    "\n",
    "data_old_e2_s = load_old['en2']['p100']\n",
    "data_old_e2_p = load_old['en2']['p190']\n",
    "\n",
    "data_old_e4_s = load_old['en4']['p100']\n",
    "data_old_e4_p = load_old['en4']['p190']\n",
    "\n",
    "\n",
    "\n",
    "\n",
    "#Make any masks that may be required.\n",
    "mask_c_e2_s = data_c_e2_s.T[1] > 0#np.full(len(data_s.T), True, dtype=bool)\n",
    "mask_c_e2_p = data_c_e2_p.T[1] > 0#np.full(len(data_p.T), True, dtype=bool)\n",
    "mask_c_e3_s = data_c_e3_s.T[1] > 0#np.full(len(data_s.T), True, dtype=bool)\n",
    "mask_c_e3_p = data_c_e3_p.T[1] > 0#np.full(len(data_p.T), True, dtype=bool)\n",
    "\n",
    "mask_a_e2_s = data_a_e2_s.T[1] > 0#np.full(len(data_s.T), True, dtype=bool)\n",
    "mask_a_e2_p = data_a_e2_p.T[1] > 0#np.full(len(data_p.T), True, dtype=bool)\n",
    "mask_a_e4_s = data_a_e4_s.T[1] > 0#np.full(len(data_s.T), True, dtype=bool)\n",
    "mask_a_e4_p = data_a_e4_p.T[1] > 0#np.full(len(data_p.T), True, dtype=bool)\n",
    "\n",
    "mask_old_e2_s = data_old_e2_s.T[1] > 0#np.full(len(data_s.T), True, dtype=bool)\n",
    "mask_old_e2_p = data_old_e2_p.T[1] > 0#np.full(len(data_p.T), True, dtype=bool)\n",
    "mask_old_e4_s = data_old_e4_s.T[1] > 0#np.full(len(data_s.T), True, dtype=bool)\n",
    "mask_old_e4_p = data_old_e4_p.T[1] > 0#np.full(len(data_p.T), True, dtype=bool)\n",
    "\n",
    "mask_a_e2_s[:5] = False\n",
    "mask_a_e2_p[:5] = False\n",
    "mask_a_e4_s[:5] = False\n",
    "mask_a_e4_p[:5] = False\n",
    "mask_old_e2_s[:5] = False\n",
    "mask_old_e2_p[:5] = False\n",
    "mask_old_e2_p[310:] = False\n",
    "\n",
    "mask_old_e4_s[:5] = False\n",
    "mask_old_e4_p[:5] = False"
   ]
  },
  {
   "cell_type": "code",
   "execution_count": 5,
   "id": "tough-instruction",
   "metadata": {},
   "outputs": [],
   "source": [
    "#Convert Data into refnx objects ---\n",
    "\n",
    "stitch_c_en2 = np.concatenate((data_c_e2_s, data_c_e2_p), axis=0)\n",
    "stitch_c_en3 = np.concatenate((data_c_e3_s, data_c_e3_p), axis=0) \n",
    "\n",
    "stitch_a_en2 = np.concatenate((data_a_e2_s, data_a_e2_p), axis=0)\n",
    "stitch_a_en4 = np.concatenate((data_a_e4_s, data_a_e4_p), axis=0)\n",
    "\n",
    "stitch_old_en2 = np.concatenate((data_old_e2_s, data_old_e2_p), axis=0)\n",
    "stitch_old_en4 = np.concatenate((data_old_e4_s, data_old_e4_p), axis=0)\n",
    "\n",
    "refl_data_c_en2 = ReflectDataset(stitch_c_en2.T)\n",
    "refl_data_c_en3 = ReflectDataset(stitch_c_en3.T)\n",
    "\n",
    "#refl_data_a_en2 = ReflectDataset(stitch_a_en2.T)\n",
    "#refl_data_a_en4 = ReflectDataset(stitch_a_en4.T)\n",
    "\n",
    "refl_data_a_en2 = ReflectDataset(data_a_e2_s.T)\n",
    "refl_data_a_en4 = ReflectDataset(data_a_e2_p.T)\n",
    "\n",
    "refl_data_old_en2 = ReflectDataset(stitch_old_en2.T)\n",
    "refl_data_old_en4 = ReflectDataset(stitch_old_en4.T)\n",
    "\n",
    "mask_c_en2 = np.concatenate((mask_c_e2_s, mask_c_e2_p), axis=0)\n",
    "mask_c_en3 = np.concatenate((mask_c_e3_s, mask_c_e3_p), axis=0)\n",
    "mask_a_en2 = mask_a_e2_s#np.concatenate((mask_a_e2_s, mask_a_e2_p), axis=0)\n",
    "#mask_a_en4 = mask_a_e2_p#np.concatenate((mask_a_e4_s, mask_a_e4_p), axis=0)\n",
    "mask_old_en2 = np.concatenate((mask_old_e2_s, mask_old_e2_p), axis=0)\n",
    "mask_old_en4 = np.concatenate((mask_old_e4_s, mask_old_e4_p), axis=0)\n",
    "\n",
    "refl_data_c_en2.mask = mask_c_en2\n",
    "refl_data_c_en3.mask = mask_c_en3\n",
    "refl_data_a_en2.mask = mask_a_e2_s#mask_a_en2\n",
    "refl_data_a_en4.mask = mask_a_e2_p#mask_a_en4\n",
    "refl_data_old_en2.mask = mask_old_en2\n",
    "refl_data_old_en4.mask = mask_old_en4\n",
    "\n",
    "data_list_c = [refl_data_c_en2]#, refl_data_c_en3]\n",
    "data_list_as = [refl_data_a_en2]#, refl_data_a_en4]\n",
    "data_list_ap = [refl_data_a_en4]\n",
    "data_list_old = [refl_data_old_en2]#, refl_data_old_en4]"
   ]
  },
  {
   "cell_type": "code",
   "execution_count": 6,
   "id": "binary-injection",
   "metadata": {},
   "outputs": [
    {
     "name": "stdout",
     "output_type": "stream",
     "text": [
      "Data successfully loaded\n"
     ]
    }
   ],
   "source": [
    "##Build energy list based on what you want it to be.\n",
    "energy_offset = 0\n",
    "energy_list = np.array([284.4])#, 285.8])\n",
    "\n",
    "energy_list += energy_offset\n",
    "print('Data successfully loaded')\n"
   ]
  },
  {
   "cell_type": "code",
   "execution_count": 7,
   "id": "worthy-evidence",
   "metadata": {},
   "outputs": [
    {
     "data": {
      "text/plain": [
       "'\\ndsaph_delta = [-0.002958759]\\ndsaph_beta = [0.001548655]\\ndsaph_bire = [0.000189903]\\ndsaph_dichro = [-0.001]\\n\\ndsaph_surface_bire = [-0.0003773717]\\ndsaph_surface_dichro = [-0.000381848]\\n\\nalq3_delta = [-0.000375703]\\nalq3_beta = [0.002615916]\\nalq3_bire = [0.000321475]\\nalq3_dichro = [0.000155101]\\n\\nalq3_substrate_bire = [-0.0005]\\nalq3_substrate_dichro = [0.0005]\\n\\n#Construct full tensor using utilities function\\ndsa_bulk = build_tensor(zip(dsaph_delta, dsaph_beta, dsaph_bire, dsaph_dichro))\\ndsa_surface = build_tensor(zip(dsaph_delta, dsaph_beta, dsaph_surface_bire, dsaph_surface_dichro))\\nalq3_bulk = build_tensor(zip(alq3_delta, alq3_beta, alq3_bire, alq3_dichro))\\nalq3_substrate = build_tensor(zip(alq3_delta, alq3_beta, alq3_substrate_bire, alq3_substrate_dichro))\\n'"
      ]
     },
     "execution_count": 7,
     "metadata": {},
     "output_type": "execute_result"
    }
   ],
   "source": [
    "\"\"\"\n",
    "Initial conditions for the model: ENERGY DEPENDENT PARAMETERS\n",
    "    Each element in the list is the same parameter for a separate energy\n",
    "\"\"\"\n",
    "\"\"\"\n",
    "dsaph_delta = [-0.002958759]\n",
    "dsaph_beta = [0.001548655]\n",
    "dsaph_bire = [0.000189903]\n",
    "dsaph_dichro = [-0.001]\n",
    "\n",
    "dsaph_surface_bire = [-0.0003773717]\n",
    "dsaph_surface_dichro = [-0.000381848]\n",
    "\n",
    "alq3_delta = [-0.000375703]\n",
    "alq3_beta = [0.002615916]\n",
    "alq3_bire = [0.000321475]\n",
    "alq3_dichro = [0.000155101]\n",
    "\n",
    "alq3_substrate_bire = [-0.0005]\n",
    "alq3_substrate_dichro = [0.0005]\n",
    "\n",
    "#Construct full tensor using utilities function\n",
    "dsa_bulk = build_tensor(zip(dsaph_delta, dsaph_beta, dsaph_bire, dsaph_dichro))\n",
    "dsa_surface = build_tensor(zip(dsaph_delta, dsaph_beta, dsaph_surface_bire, dsaph_surface_dichro))\n",
    "alq3_bulk = build_tensor(zip(alq3_delta, alq3_beta, alq3_bire, alq3_dichro))\n",
    "alq3_substrate = build_tensor(zip(alq3_delta, alq3_beta, alq3_substrate_bire, alq3_substrate_dichro))\n",
    "\"\"\""
   ]
  },
  {
   "cell_type": "code",
   "execution_count": 8,
   "id": "technical-medicaid",
   "metadata": {},
   "outputs": [],
   "source": [
    "def build_tensor1(complex_inputs):\n",
    "    out = []\n",
    "    for r, i, dr, di in complex_inputs:\n",
    "        dxx = r - (1/3)*dr\n",
    "        bxx = i + (1/3)*di\n",
    "        nxx = dxx + 1j*bxx\n",
    "\n",
    "        dzz = r + (2/3)*dr\n",
    "        bzz = i - (2/3)*di\n",
    "        nzz = dzz + 1j*bzz\n",
    "        \n",
    "        out.append(np.diag([nxx, nxx, nzz]))\n",
    "    return out"
   ]
  },
  {
   "cell_type": "code",
   "execution_count": 9,
   "id": "guilty-excuse",
   "metadata": {},
   "outputs": [],
   "source": [
    "\"\"\"\n",
    "Initial conditions for the model: ENERGY DEPENDENT PARAMETERS\n",
    "    Each element in the list is the same parameter for a separate energy\n",
    "\"\"\"\n",
    "\"\"\"\n",
    "Approximate values @ 284.4eV\n",
    "\"\"\"\n",
    "#Sample A\n",
    "dsaph_delta = [-0.003285347, 0.000877579]#[-0.00236]\n",
    "dsaph_beta = [0.001766276, 0.001690298]#[0.00065]\n",
    "dsaph_bire = [-0.000154791, -0.000337602]#[0.0002]\n",
    "dsaph_dichro = [0.000343712, 2.37E-05]\n",
    "\n",
    "dsaph_surface_bire = [0.000386676, -0.000177334]\n",
    "dsaph_surface_dichro = [-0.000176011, 0.000475281]\n",
    "\n",
    "dsaph_sub_bire = [-0.0007696437, -0.000177334]\n",
    "dsaph_sub_dichro = [-0.000282618, 0.000475281]\n",
    "\n",
    "alq3_delta = [-0.000274336, 0.002458505]#[-0.00155]\n",
    "alq3_beta = [0.002458505, 0.002849656]#[0.00075]\n",
    "alq3_bire = [-6.99E-05, -0.000108842]#[0.0001]\n",
    "alq3_dichro = [0.000343471, -0.000249433]\n",
    "\n",
    "alq3_substrate_bire = [0.000003, 0.000003]\n",
    "alq3_substrate_dichro = [-0.000005, -0.000005]\n",
    "\n",
    "#Construct full tensor using utilities function\n",
    "dsa_bulk = build_tensor1(zip(dsaph_delta, dsaph_beta, dsaph_bire, dsaph_dichro))\n",
    "dsa_surface = build_tensor1(zip(dsaph_delta, dsaph_beta, dsaph_surface_bire, dsaph_surface_dichro))\n",
    "dsa_substrate = build_tensor1(zip(dsaph_delta, dsaph_beta, dsaph_sub_bire, dsaph_sub_dichro))\n",
    "\n",
    "alq3_bulk = build_tensor1(zip(alq3_delta, alq3_beta, alq3_bire, alq3_dichro))\n",
    "alq3_substrate = build_tensor1(zip(alq3_delta, alq3_beta, alq3_substrate_bire, alq3_substrate_dichro))"
   ]
  },
  {
   "cell_type": "code",
   "execution_count": 10,
   "id": "organizational-qatar",
   "metadata": {},
   "outputs": [],
   "source": [
    "\"\"\"\n",
    "Initial conditions for the model: ENERGY INDEPENDENT PARAMETERS\n",
    "    Each element of the list is a structural parameter that is held between energies\n",
    "\"\"\"\n",
    "#Parameters from alternative measurements\n",
    "surface_c = 8.918308149 #[A]\n",
    "thick_c = 987.0603577 #[A]\n",
    "\n",
    "surface_a = 8.697210888\n",
    "thick_a = 1074.747861\n",
    "\n",
    "surface_old = 6.179941493\n",
    "thick_old = 1105.395658\n",
    "\n",
    "sio2_t = 17#13.01697232 #[A]\n",
    "sio2_r = 2.5#6.632003575 #[A]\n",
    "si_sio2_t = 1.5\n",
    "si_sio2_r = 1.5\n",
    "si_t = 0 #[A] (Can be used as placeholder for total thickness if it should vary)\n",
    "si_r = 1.5 #[A]\n",
    "\n",
    "l_t = [10, 418, 530, 20] #Layer thickness [A]\n",
    "l_r = [4.064777495, 7.912001068, 5, surface_c] #Layer roughness [A]"
   ]
  },
  {
   "cell_type": "code",
   "execution_count": 11,
   "id": "sexual-formation",
   "metadata": {},
   "outputs": [],
   "source": [
    "#Superstrate\n",
    "vac = ani_MaterialSLD('', density=1, name=\"vacuum\")\n",
    "\n",
    "#Substrate Layers\n",
    "sio2_slab = []\n",
    "inter = []\n",
    "si_slab = []\n",
    "alq3_all = []\n",
    "#Substrate Layers\n",
    "for i, en in enumerate(energy_list):\n",
    "    sio2_slab.append(\n",
    "        ani_MaterialSLD('SiO2', density = 2.4, energy = en, name='SiO2')(\n",
    "            sio2_t, sio2_r\n",
    "        )     \n",
    "    )\n",
    "    si_slab.append(\n",
    "        ani_MaterialSLD('Si', density=2.33, energy = en,name='Si')(\n",
    "            si_t, si_r\n",
    "        )    \n",
    "    )\n",
    "    alq3_all.append(\n",
    "        ani_SLD(alq3_bulk[i], name=('Alq3'+str(i))\n",
    "        )    \n",
    "    )\n",
    "    "
   ]
  },
  {
   "cell_type": "code",
   "execution_count": 12,
   "id": "instrumental-gossip",
   "metadata": {},
   "outputs": [],
   "source": [
    "\"\"\"\n",
    "Build slab conditions from tensor objects made previously\n",
    "This is for sample MF114C ~~~\n",
    "\n",
    "\"\"\"\n",
    "#Energy dependence of layers\n",
    "dsa_c_bulk_slab = []\n",
    "alq3_c_slab = []\n",
    "\n",
    "for i, en in enumerate(energy_list):\n",
    "    #Important Layers\n",
    "    #alq3_c_slab.append(\n",
    "    #    ani_SLD(alq3_bulk[i], name=('alq3_c_en'+str(i)))(\n",
    "    #        l_t[1], l_r[1]\n",
    "    #    )\n",
    "    #) \n",
    "    alq3_c_slab.append(\n",
    "        alq3_all[i](\n",
    "            l_t[1], l_r[1]\n",
    "        )\n",
    "    )\n",
    "    dsa_c_bulk_slab.append(\n",
    "        ani_SLD(dsa_bulk[i], name=('dsaph_c_bulk_en'+str(i)))(\n",
    "            l_t[2], l_r[2]\n",
    "        )\n",
    "    )"
   ]
  },
  {
   "cell_type": "code",
   "execution_count": 13,
   "id": "parental-fiction",
   "metadata": {},
   "outputs": [],
   "source": [
    "\"\"\"\n",
    "Build slab conditions from tensor objects made previously\n",
    "This is for sample MF114A ~~\n",
    "\n",
    "\"\"\"\n",
    "#Energy dependence of layers\n",
    "dsa_a_bulk_slab = []\n",
    "dsa_a_surface_slab = []\n",
    "dsa_a_substrate_slab = []\n",
    "alq3_a_slab = []\n",
    "\n",
    "for i, en in enumerate(energy_list):\n",
    "    #Important Layers\n",
    "    #alq3_a_slab.append(\n",
    "    #    ani_SLD(alq3_bulk[i], name=('alq3_a_en'+str(i)))(\n",
    "    #        534, l_r[1]\n",
    "    #    )\n",
    "    #)\n",
    "    alq3_a_slab.append(\n",
    "        alq3_all[i](\n",
    "            539.7822167, 5.825360451\n",
    "        )\n",
    "    )\n",
    "    dsa_a_bulk_slab.append(\n",
    "        ani_SLD(dsa_bulk[i], name=('dsaph_a_bulk_en'+str(i)))(\n",
    "            473.2137096, 7.321297313\n",
    "        )\n",
    "    )\n",
    "    dsa_a_surface_slab.append(\n",
    "        ani_SLD(dsa_surface[i], name=('dsaph_a_surface_en'+str(i)))(\n",
    "            31.10665377, surface_a\n",
    "        )\n",
    "    )\n",
    "    dsa_a_substrate_slab.append(\n",
    "        ani_SLD(dsa_substrate[i], name=('dsaph_a_substrate_en'+str(i)))(\n",
    "            30.74281986, 0.141697727\n",
    "        )\n",
    "    )"
   ]
  },
  {
   "cell_type": "code",
   "execution_count": 14,
   "id": "blond-story",
   "metadata": {},
   "outputs": [],
   "source": [
    "\"\"\"\n",
    "Build slab conditions from tensor objects made previously\n",
    "This is for sample MF114A ~~\n",
    "\n",
    "\"\"\"\n",
    "#Energy dependence of layers\n",
    "dsa_old_bulk_slab = []\n",
    "dsa_old_surface_slab = []\n",
    "dsa_old_substrate_slab = []\n",
    "alq3_old_slab = []\n",
    "\n",
    "for i, en in enumerate(energy_list):\n",
    "    #Important Layers\n",
    "    #alq3_old_slab.append(\n",
    "    #    ani_SLD(alq3_bulk[i], name=('alq3_old_en'+str(i)))(\n",
    "    #        558, l_r[1]\n",
    "    #    )\n",
    "    #) \n",
    "    alq3_old_slab.append(\n",
    "        alq3_all[i](\n",
    "            558, l_r[1]\n",
    "        )\n",
    "    )\n",
    "    dsa_old_bulk_slab.append(\n",
    "        ani_SLD(dsa_bulk[i], name=('dsaph_old_bulk_en'+str(i)))(\n",
    "            524, l_r[2]\n",
    "        )\n",
    "    )\n",
    "    dsa_old_surface_slab.append(\n",
    "        ani_SLD(dsa_surface[i], name=('dsaph_old_surface_en'+str(i)))(\n",
    "            12.3, l_r[3]\n",
    "        )\n",
    "    )\n",
    "    dsa_old_substrate_slab.append(\n",
    "        ani_SLD(dsa_substrate[i], name=('dsaph_old_substrate_en'+str(i)))(\n",
    "            11.2, l_r[3]\n",
    "        )\n",
    "    )"
   ]
  },
  {
   "cell_type": "code",
   "execution_count": 15,
   "id": "married-retro",
   "metadata": {},
   "outputs": [],
   "source": [
    "\"\"\"\n",
    "Generate the structure model\n",
    "    'structure' = superstrate (sld) | top layer (slab) | ... | bottom layer (slab) | substrate (slab)\n",
    "\"\"\"\n",
    "structure_c = []\n",
    "structure_a = []\n",
    "structure_old = []\n",
    "\n",
    "for i, en in enumerate(energy_list):\n",
    "    structure_c.append(\n",
    "        vac | dsa_c_bulk_slab[i] | alq3_c_slab[i] | sio2_slab[i] | si_slab[i]\n",
    "    )\n",
    "    #structure_a.append(\n",
    "    #    vac | dsa_a_surface_slab[i] | dsa_a_bulk_slab[i] | dsa_a_substrate_slab[i] | alq3_a_slab[i] | sio2_slab[i] | si_slab[i]\n",
    "    #)\n",
    "    #structure_a.append(\n",
    "    #    vac | dsa_a_surface_slab[i] | dsa_a_bulk_slab[i] | alq3_a_slab[i] | sio2_slab[i] | si_slab[i]\n",
    "    #)\n",
    "    structure_a.append(\n",
    "        vac | dsa_a_bulk_slab[i] | alq3_a_slab[i] | sio2_slab[i] | si_slab[i]\n",
    "    )\n",
    "    structure_old.append(\n",
    "        vac | dsa_old_surface_slab[i] | dsa_old_bulk_slab[i] | dsa_old_substrate_slab[i] | alq3_old_slab[i] | sio2_slab[i] | si_slab[i]\n",
    "    )\n",
    "    structure_c[i].name = 'structure_c_en'+str(en)\n",
    "    structure_a[i].name = 'structure_a_en'+str(en)\n",
    "    structure_old[i].name = 'structure_old_en'+str(en)"
   ]
  },
  {
   "cell_type": "raw",
   "id": "engaging-african",
   "metadata": {
    "tags": []
   },
   "source": [
    "for i, slab in enumerate(alq3_substrate_slab):\n",
    "    if i == 0:\n",
    "        slab.thick.setp(bounds=(0,50), vary=True)\n",
    "        slab.rough.setp(bounds=(0,30), vary=True)\n",
    "        \n",
    "    else:\n",
    "        slab.thick.setp(vary=None,constraint=(alq3_substrate_slab[0].thick))\n",
    "        slab.rough.setp(vary=None,constraint=(alq3_substrate_slab[0].rough))\n",
    "        \n",
    "    slab.sld.birefringence.setp(bounds=(-0.01, 0.01), vary=True)\n",
    "    slab.sld.dichroism.setp(bounds=(-0.01, 0.01), vary=True)#, constraint=(slab.sld.ixx-slab.sld.izz))\n",
    "    \n",
    "    slab.sld.delta.setp(vary=None, constraint=(alq3_bulk_slab[i].sld.delta))\n",
    "    slab.sld.beta.setp(vary=None, constraint=(alq3_bulk_slab[i].sld.beta))\n",
    "    \n",
    "    slab.sld.xx.setp(vary=None, constraint=(slab.sld.delta - (1/3)*slab.sld.birefringence))\n",
    "    slab.sld.yy.setp(vary=None, constraint=(slab.sld.xx))\n",
    "    slab.sld.zz.setp(vary=None, constraint=(slab.sld.delta + (2/3)*slab.sld.birefringence))\n",
    "    slab.sld.ixx.setp(vary=None, constraint=(slab.sld.beta + (1/3)*slab.sld.dichroism))\n",
    "    slab.sld.iyy.setp(vary=None, constraint=(slab.sld.ixx))\n",
    "    slab.sld.izz.setp(vary=None, constraint=(slab.sld.beta - (2/3)*slab.sld.dichroism))"
   ]
  },
  {
   "cell_type": "raw",
   "id": "meaningful-southwest",
   "metadata": {},
   "source": [
    "for i, slab in enumerate(alq3_c_slab):\n",
    "    if i == 0:\n",
    "        slab.thick.setp(bounds=(300,600), vary=True)\n",
    "        slab.rough.setp(bounds=(0,30), vary=True)\n",
    "        \n",
    "    else:\n",
    "        slab.thick.setp(vary=None,constraint=(alq3_c_slab[0].thick))\n",
    "        slab.rough.setp(vary=None,constraint=(alq3_c_slab[0].rough))\n",
    "        \n",
    "    slab.sld.birefringence.setp(bounds=(-0.01, 0.01), vary=True)\n",
    "    slab.sld.dichroism.setp(bounds=(-0.01, 0.01), vary=None)#, constraint=(slab.sld.ixx-slab.sld.izz))\n",
    "    \n",
    "    slab.sld.delta.setp(bounds=(-0.01, 0.01), vary=True)\n",
    "    slab.sld.beta.setp(vary=None, constraint=((2*slab.sld.ixx + slab.sld.izz)/3))\n",
    "    \n",
    "    slab.sld.xx.setp(vary=None, constraint=(slab.sld.delta - (1/3)*slab.sld.birefringence))\n",
    "    slab.sld.yy.setp(vary=None, constraint=(slab.sld.xx))\n",
    "    slab.sld.zz.setp(vary=None, constraint=(slab.sld.delta + (2/3)*slab.sld.birefringence))\n",
    "    slab.sld.ixx.setp(bounds=(1e-9, 0.01), vary=True)#vary=None, constraint=(slab.sld.beta + (1/3)*slab.sld.dichroism))\n",
    "    slab.sld.iyy.setp(vary=None, constraint=(slab.sld.ixx))\n",
    "    slab.sld.izz.setp(bounds=(1e-9, 0.01), vary=True)#vary=None, constraint=(slab.sld.beta - (2/3)*slab.sld.dichroism))\n",
    "    \n",
    "for i, slab in enumerate(alq3_a_slab):\n",
    "    if i == 0:\n",
    "        slab.thick.setp(bounds=(300,600), vary=True)\n",
    "        slab.rough.setp(bounds=(0,30), vary=True)\n",
    "        \n",
    "    else:\n",
    "        slab.thick.setp(vary=None,constraint=(alq3_a_slab[0].thick))\n",
    "        slab.rough.setp(vary=None,constraint=(alq3_a_slab[0].rough))\n",
    "        \n",
    "    slab.sld.birefringence.setp(bounds=(-0.01, 0.01), vary=True, constraint=None)#vary=None, constraint=(alq3_c_slab[i].sld.birefringence))\n",
    "    slab.sld.dichroism.setp(vary=None)#, constraint=(alq3_c_slab[i].sld.dichroism))\n",
    "    \n",
    "    slab.sld.delta.setp(bounds=(-0.01, 0.01), vary=True)#vary=None, constraint=(alq3_c_slab[i].sld.delta))\n",
    "    slab.sld.beta.setp(vary=None, constraint=((2*slab.sld.ixx + slab.sld.izz)/3))#vary=None, constraint=(alq3_c_slab[i].sld.beta))\n",
    "    \n",
    "    slab.sld.xx.setp(vary=None, constraint=(slab.sld.delta - (1/3)*slab.sld.birefringence))\n",
    "    slab.sld.yy.setp(vary=None, constraint=(slab.sld.xx))\n",
    "    slab.sld.zz.setp(vary=None, constraint=(slab.sld.delta + (2/3)*slab.sld.birefringence))\n",
    "    slab.sld.ixx.setp(bounds=(1e-9, 0.01), vary=True)#vary=None, constraint=alq3_c_slab[i].sld.ixx)#(slab.sld.beta + (1/3)*slab.sld.dichroism))\n",
    "    slab.sld.iyy.setp(vary=None, constraint=(slab.sld.ixx))\n",
    "    slab.sld.izz.setp(bounds=(1e-9, 0.01), vary=True)#vary=None, constraint=alq3_c_slab[i].sld.izz)#(slab.sld.beta - (2/3)*slab.sld.dichroism))\n",
    "        \n",
    "for i, slab in enumerate(alq3_old_slab):\n",
    "    if i == 0:\n",
    "        slab.thick.setp(bounds=(300,600), vary=True)\n",
    "        slab.rough.setp(bounds=(0,30), vary=True)\n",
    "        \n",
    "    else:\n",
    "        slab.thick.setp(vary=None,constraint=(alq3_old_slab[0].thick))\n",
    "        slab.rough.setp(vary=None,constraint=(alq3_old_slab[0].rough))\n",
    "        \n",
    "    slab.sld.birefringence.setp(bounds=(-0.01, 0.01), vary=True, constraint=None)#vary=None, constraint=(alq3_c_slab[i].sld.birefringence))\n",
    "    slab.sld.dichroism.setp(vary=None)#, constraint=(alq3_c_slab[i].sld.dichroism))\n",
    "    \n",
    "    slab.sld.delta.setp(bounds=(-0.01, 0.01), vary=True)#vary=None, constraint=(alq3_c_slab[i].sld.delta))\n",
    "    slab.sld.beta.setp(vary=None, constraint=((2*slab.sld.ixx + slab.sld.izz)/3))#vary=None, constraint=(alq3_c_slab[i].sld.beta))\n",
    "    \n",
    "    slab.sld.xx.setp(vary=None, constraint=(slab.sld.delta - (1/3)*slab.sld.birefringence))\n",
    "    slab.sld.yy.setp(vary=None, constraint=(slab.sld.xx))\n",
    "    slab.sld.zz.setp(vary=None, constraint=(slab.sld.delta + (2/3)*slab.sld.birefringence))\n",
    "    slab.sld.ixx.setp(bounds=(1e-9, 0.01), vary=True)#vary=None, constraint=alq3_c_slab[i].sld.ixx)#(slab.sld.beta + (1/3)*slab.sld.dichroism))\n",
    "    slab.sld.iyy.setp(vary=None, constraint=(slab.sld.ixx))\n",
    "    slab.sld.izz.setp(bounds=(1e-9, 0.01), vary=True)#vary=None, constraint=alq3_c_slab[i].sld.izz)#(slab.sld.beta - (2/3)*slab.sld.dichroism))"
   ]
  },
  {
   "cell_type": "code",
   "execution_count": 16,
   "id": "infinite-single",
   "metadata": {},
   "outputs": [],
   "source": [
    "for i, slab in enumerate(alq3_c_slab):\n",
    "    if i == 0:\n",
    "        slab.thick.setp(bounds=(300,600), vary=True)\n",
    "        slab.rough.setp(bounds=(0,30), vary=True)\n",
    "        \n",
    "    else:\n",
    "        slab.thick.setp(vary=None,constraint=(alq3_c_slab[0].thick))\n",
    "        slab.rough.setp(vary=None,constraint=(alq3_c_slab[0].rough))\n",
    "        \n",
    "    slab.sld.birefringence.setp(bounds=(-0.01, 0.01), vary=True)\n",
    "    slab.sld.dichroism.setp(bounds=(-0.01, 0.01), vary=False)#, constraint=(slab.sld.ixx-slab.sld.izz))\n",
    "    \n",
    "    slab.sld.delta.setp(bounds=(-0.01, 0.01), vary=True)\n",
    "    slab.sld.beta.setp(vary=None, constraint=((2*slab.sld.ixx + slab.sld.izz)/3))\n",
    "    \n",
    "    slab.sld.xx.setp(vary=None, constraint=(slab.sld.delta - (1/3)*slab.sld.birefringence))\n",
    "    slab.sld.yy.setp(vary=None, constraint=(slab.sld.xx))\n",
    "    slab.sld.zz.setp(vary=None, constraint=(slab.sld.delta + (2/3)*slab.sld.birefringence))\n",
    "    slab.sld.ixx.setp(bounds=(1e-9, 0.01), vary=True)#vary=None, constraint=(slab.sld.beta + (1/3)*slab.sld.dichroism))\n",
    "    slab.sld.iyy.setp(vary=None, constraint=(slab.sld.ixx))\n",
    "    slab.sld.izz.setp(bounds=(1e-9, 0.01), vary=True)#vary=None, constraint=(slab.sld.beta - (2/3)*slab.sld.dichroism))\n",
    "    \n",
    "for i, slab in enumerate(alq3_a_slab):\n",
    "    if i == 0:\n",
    "        slab.thick.setp(bounds=(300,600), vary=True)\n",
    "        slab.rough.setp(bounds=(0,30), vary=True)\n",
    "        \n",
    "    else:\n",
    "        slab.thick.setp(vary=None,constraint=(alq3_a_slab[0].thick))\n",
    "        slab.rough.setp(vary=None,constraint=(alq3_a_slab[0].rough))\n",
    "        \n",
    "for i, slab in enumerate(alq3_old_slab):\n",
    "    if i == 0:\n",
    "        slab.thick.setp(bounds=(300,600), vary=True)\n",
    "        slab.rough.setp(bounds=(0,30), vary=True)\n",
    "        \n",
    "    else:\n",
    "        slab.thick.setp(vary=None,constraint=(alq3_old_slab[0].thick))\n",
    "        slab.rough.setp(vary=None,constraint=(alq3_old_slab[0].rough))\n",
    "        "
   ]
  },
  {
   "cell_type": "raw",
   "id": "physical-metropolitan",
   "metadata": {},
   "source": [
    "for i, slab in enumerate(dsa_c_bulk_slab):\n",
    "    if i == 0:\n",
    "        slab.thick.setp(bounds=(100,600), vary=None, constraint=(thick_c - alq3_c_slab[0].thick))# - alq3_substrate_slab[0].thick))\n",
    "        slab.rough.setp(surface_c, bounds=(0,200), vary=True)\n",
    "        \n",
    "    else:\n",
    "        slab.thick.setp(vary=None,constraint=(dsa_c_bulk_slab[0].thick))\n",
    "        slab.rough.setp(vary=None,constraint=(dsa_c_bulk_slab[0].rough))\n",
    "        \n",
    "    slab.sld.birefringence.setp(bounds=(-0.01, 0.01), vary=True)\n",
    "    slab.sld.dichroism.setp(bounds=(-0.01, 0.01), vary=None, constraint=(slab.sld.ixx-slab.sld.izz))\n",
    "    \n",
    "    slab.sld.delta.setp(bounds=(-0.01, 0.01), vary=True)\n",
    "    slab.sld.beta.setp(vary=None, constraint=((2*slab.sld.ixx + slab.sld.izz)/3))\n",
    "    \n",
    "    slab.sld.xx.setp(vary=None, constraint=(slab.sld.delta - (1/3)*slab.sld.birefringence))\n",
    "    slab.sld.yy.setp(vary=None, constraint=(slab.sld.xx))\n",
    "    slab.sld.zz.setp(vary=None, constraint=(slab.sld.delta + (2/3)*slab.sld.birefringence))\n",
    "    slab.sld.ixx.setp(bounds=(1e-9, 0.01), vary=True)#vary=None, constraint=(slab.sld.beta + (1/3)*slab.sld.dichroism))\n",
    "    slab.sld.iyy.setp(vary=None, constraint=(slab.sld.ixx))\n",
    "    slab.sld.izz.setp(bounds=(1e-9, 0.01), vary=True)#vary=None, constraint=(slab.sld.beta - (2/3)*slab.sld.dichroism))\n",
    "    \n",
    "for i, slab in enumerate(dsa_a_bulk_slab):\n",
    "    if i == 0:\n",
    "        slab.thick.setp(bounds=(100,600), vary=None, constraint=(thick_a - alq3_a_slab[0].thick - dsa_a_surface_slab[0].thick))# - alq3_substrate_slab[0].thick))\n",
    "        slab.rough.setp(surface_a, bounds=(0,200), vary=True)\n",
    "        \n",
    "    else:\n",
    "        slab.thick.setp(vary=None,constraint=(dsa_a_bulk_slab[0].thick))\n",
    "        slab.rough.setp(vary=None,constraint=(dsa_a_bulk_slab[0].rough))\n",
    "        \n",
    "    slab.sld.birefringence.setp(bounds=(-0.01, 0.01), vary=True)\n",
    "    slab.sld.dichroism.setp(bounds=(-0.01, 0.01), vary=None, constraint=(slab.sld.ixx-slab.sld.izz))\n",
    "    \n",
    "    slab.sld.delta.setp(bounds=(-0.01, 0.01), vary=True)\n",
    "    slab.sld.beta.setp(vary=None, constraint=((2*slab.sld.ixx + slab.sld.izz)/3))\n",
    "    \n",
    "    slab.sld.xx.setp(vary=None, constraint=(slab.sld.delta - (1/3)*slab.sld.birefringence))\n",
    "    slab.sld.yy.setp(vary=None, constraint=(slab.sld.xx))\n",
    "    slab.sld.zz.setp(vary=None, constraint=(slab.sld.delta + (2/3)*slab.sld.birefringence))\n",
    "    slab.sld.ixx.setp(bounds=(1e-9, 0.01), vary=True)#vary=None, constraint=(slab.sld.beta + (1/3)*slab.sld.dichroism))\n",
    "    slab.sld.iyy.setp(vary=None, constraint=(slab.sld.ixx))\n",
    "    slab.sld.izz.setp(bounds=(1e-9, 0.01), vary=True)#vary=None, constraint=(slab.sld.beta - (2/3)*slab.sld.dichroism))\n",
    "    \n",
    "for i, slab in enumerate(dsa_old_bulk_slab):\n",
    "    if i == 0:\n",
    "        slab.thick.setp(bounds=(100,600), vary=None, constraint=(thick_old - alq3_old_slab[0].thick - dsa_old_surface_slab[0].thick))# - alq3_substrate_slab[0].thick))\n",
    "        slab.rough.setp(surface_a, bounds=(0,200), vary=True)\n",
    "        \n",
    "    else:\n",
    "        slab.thick.setp(vary=None,constraint=(dsa_old_bulk_slab[0].thick))\n",
    "        slab.rough.setp(vary=None,constraint=(dsa_old_bulk_slab[0].rough))\n",
    "        \n",
    "    slab.sld.birefringence.setp(bounds=(-0.01, 0.01), vary=True)\n",
    "    slab.sld.dichroism.setp(bounds=(-0.01, 0.01), vary=None, constraint=(slab.sld.ixx-slab.sld.izz))\n",
    "    \n",
    "    slab.sld.delta.setp(bounds=(-0.01, 0.01), vary=True)\n",
    "    slab.sld.beta.setp(vary=None, constraint=((2*slab.sld.ixx + slab.sld.izz)/3))\n",
    "    \n",
    "    slab.sld.xx.setp(vary=None, constraint=(slab.sld.delta - (1/3)*slab.sld.birefringence))\n",
    "    slab.sld.yy.setp(vary=None, constraint=(slab.sld.xx))\n",
    "    slab.sld.zz.setp(vary=None, constraint=(slab.sld.delta + (2/3)*slab.sld.birefringence))\n",
    "    slab.sld.ixx.setp(bounds=(1e-9, 0.01), vary=True)#vary=None, constraint=(slab.sld.beta + (1/3)*slab.sld.dichroism))\n",
    "    slab.sld.iyy.setp(vary=None, constraint=(slab.sld.ixx))\n",
    "    slab.sld.izz.setp(bounds=(1e-9, 0.01), vary=True)#vary=None, constraint=(slab.sld.beta - (2/3)*slab.sld.dichroism))"
   ]
  },
  {
   "cell_type": "code",
   "execution_count": 18,
   "id": "romantic-singapore",
   "metadata": {},
   "outputs": [],
   "source": [
    "val_b_c = [8.37E-05, 7.94E-05]\n",
    "val_bx_c = [0.001717507, 0.001585118]\n",
    "val_bz_c = [0.001856777, 0.001581805]\n",
    "for i, slab in enumerate(dsa_c_bulk_slab):\n",
    "    if i == 0:\n",
    "        slab.thick.setp(bounds=(100,600), vary=None, constraint=(thick_c - alq3_c_slab[0].thick))# - alq3_substrate_slab[0].thick))\n",
    "        slab.rough.setp(surface_c, bounds=(0,200), vary=True)\n",
    "        \n",
    "    else:\n",
    "        slab.thick.setp(vary=None,constraint=(dsa_c_bulk_slab[0].thick))\n",
    "        slab.rough.setp(vary=None,constraint=(dsa_c_bulk_slab[0].rough))\n",
    "        \n",
    "    slab.sld.birefringence.setp(val_b_c[i],bounds=(-0.01, 0.01), vary=True)\n",
    "    slab.sld.dichroism.setp(bounds=(-0.01, 0.01), vary=None, constraint=(slab.sld.ixx-slab.sld.izz))\n",
    "    \n",
    "    slab.sld.delta.setp(bounds=(-0.01, 0.01), vary=True)\n",
    "    slab.sld.beta.setp(vary=None, constraint=((2*slab.sld.ixx + slab.sld.izz)/3))\n",
    "    \n",
    "    slab.sld.xx.setp(vary=None, constraint=(slab.sld.delta - (1/3)*slab.sld.birefringence))\n",
    "    slab.sld.yy.setp(vary=None, constraint=(slab.sld.xx))\n",
    "    slab.sld.zz.setp(vary=None, constraint=(slab.sld.delta + (2/3)*slab.sld.birefringence))\n",
    "    slab.sld.ixx.setp(val_bx_c[i] ,bounds=(1e-9, 0.01), vary=True)#vary=None, constraint=(slab.sld.beta + (1/3)*slab.sld.dichroism))\n",
    "    slab.sld.iyy.setp(vary=None, constraint=(slab.sld.ixx))\n",
    "    slab.sld.izz.setp(val_bz_c[i], bounds=(1e-9, 0.01), vary=True)#vary=None, constraint=(slab.sld.beta - (2/3)*slab.sld.dichroism))\n",
    "\n",
    "val_a = []\n",
    "for i, slab in enumerate(dsa_a_bulk_slab):\n",
    "    if i == 0:\n",
    "        slab.thick.setp(bounds=(100,600), vary=None, constraint=(thick_a - alq3_a_slab[0].thick))# - dsa_a_surface_slab[0].thick))# - dsa_a_substrate_slab[0].thick))# - alq3_substrate_slab[0].thick))\n",
    "        slab.rough.setp(surface_a, bounds=(0,200), vary=True)\n",
    "        \n",
    "    else:\n",
    "        slab.thick.setp(vary=None,constraint=(dsa_a_bulk_slab[0].thick))\n",
    "        slab.rough.setp(vary=None,constraint=(dsa_a_bulk_slab[0].rough))\n",
    "        \n",
    "    slab.sld.birefringence.setp(bounds=(-0.01, 0.01), vary=True)\n",
    "    slab.sld.dichroism.setp(bounds=(-0.01, 0.01), vary=True)#, constraint=(slab.sld.ixx-slab.sld.izz))\n",
    "    \n",
    "    slab.sld.delta.setp(bounds=(-0.01, 0.01), vary=None, constraint=(dsa_c_bulk_slab[0].sld.delta))\n",
    "    slab.sld.beta.setp(vary=None, constraint=(dsa_c_bulk_slab[0].sld.beta))\n",
    "    \n",
    "    slab.sld.xx.setp(vary=None, constraint=(slab.sld.delta - (1/3)*slab.sld.birefringence))\n",
    "    slab.sld.yy.setp(vary=None, constraint=(slab.sld.xx))\n",
    "    slab.sld.zz.setp(vary=None, constraint=(slab.sld.delta + (2/3)*slab.sld.birefringence))\n",
    "    slab.sld.ixx.setp(vary=None, constraint=(slab.sld.beta + (1/3)*slab.sld.dichroism))\n",
    "    slab.sld.iyy.setp(vary=None, constraint=(slab.sld.ixx))\n",
    "    slab.sld.izz.setp(vary=None, constraint=(slab.sld.beta - (2/3)*slab.sld.dichroism))\n",
    "\n",
    "val_b_old = [-0.003412712, 9.0E-05]\n",
    "for i, slab in enumerate(dsa_old_bulk_slab):\n",
    "    if i == 0:\n",
    "        slab.thick.setp(bounds=(100,600), vary=None, constraint=(thick_old - alq3_old_slab[0].thick - dsa_old_surface_slab[0].thick - dsa_old_substrate_slab[0].thick))# - alq3_substrate_slab[0].thick))\n",
    "        slab.rough.setp(surface_a, bounds=(0,200), vary=True)\n",
    "        \n",
    "    else:\n",
    "        slab.thick.setp(vary=None,constraint=(dsa_old_bulk_slab[0].thick))\n",
    "        slab.rough.setp(vary=None,constraint=(dsa_old_bulk_slab[0].rough))\n",
    "        \n",
    "    slab.sld.birefringence.setp(val_b_old[i], bounds=(-0.01, 0.01), vary=True)\n",
    "    slab.sld.dichroism.setp(-0.003434868,bounds=(-0.01, 0.01), vary=True)#, constraint=(slab.sld.ixx-slab.sld.izz))\n",
    "    \n",
    "    slab.sld.delta.setp(bounds=(-0.01, 0.01), vary=None, constraint=dsa_c_bulk_slab[0].sld.delta)\n",
    "    slab.sld.beta.setp(vary=None, constraint=(dsa_c_bulk_slab[0].sld.beta))\n",
    "    \n",
    "    slab.sld.xx.setp(vary=None, constraint=(slab.sld.delta - (1/3)*slab.sld.birefringence))\n",
    "    slab.sld.yy.setp(vary=None, constraint=(slab.sld.xx))\n",
    "    slab.sld.zz.setp(vary=None, constraint=(slab.sld.delta + (2/3)*slab.sld.birefringence))\n",
    "    slab.sld.ixx.setp(vary=None, constraint=(slab.sld.beta + (1/3)*slab.sld.dichroism))\n",
    "    slab.sld.iyy.setp(vary=None, constraint=(slab.sld.ixx))\n",
    "    slab.sld.izz.setp(vary=None, constraint=(slab.sld.beta - (2/3)*slab.sld.dichroism))"
   ]
  },
  {
   "cell_type": "code",
   "execution_count": 19,
   "id": "motivated-grounds",
   "metadata": {},
   "outputs": [],
   "source": [
    "for i, slab in enumerate(dsa_a_surface_slab):\n",
    "    if i == 0:\n",
    "        slab.thick.setp(bounds=(0,600), vary=True)\n",
    "        slab.rough.setp(bounds=(0,30), vary=False)\n",
    "        \n",
    "    else:\n",
    "        slab.thick.setp(vary=None,constraint=(dsa_a_surface_slab[0].thick))\n",
    "        slab.rough.setp(vary=None,constraint=(dsa_a_surface_slab[0].rough))\n",
    "        \n",
    "    slab.sld.birefringence.setp(bounds=(-0.01, 0.01), vary=True)\n",
    "    slab.sld.dichroism.setp(bounds=(-0.01, 0.01), vary=True)\n",
    "    \n",
    "    slab.sld.delta.setp(vary=None, constraint=(dsa_a_bulk_slab[i].sld.delta))\n",
    "    slab.sld.beta.setp(vary=None, constraint=(dsa_a_bulk_slab[i].sld.beta))\n",
    "    \n",
    "    slab.sld.xx.setp(vary=None, constraint=(slab.sld.delta - (1/3)*slab.sld.birefringence))\n",
    "    slab.sld.yy.setp(vary=None, constraint=(slab.sld.xx))\n",
    "    slab.sld.zz.setp(vary=None, constraint=(slab.sld.delta + (2/3)*slab.sld.birefringence))\n",
    "    slab.sld.ixx.setp(vary=None, constraint=(slab.sld.beta + (1/3)*slab.sld.dichroism))\n",
    "    slab.sld.iyy.setp(vary=None, constraint=(slab.sld.ixx))\n",
    "    slab.sld.izz.setp(vary=None, constraint=(slab.sld.beta - (2/3)*slab.sld.dichroism))\n",
    "    \n",
    "for i, slab in enumerate(dsa_old_surface_slab):\n",
    "    if i == 0:\n",
    "        slab.thick.setp(15,bounds=(0,600), vary=True)\n",
    "        slab.rough.setp(bounds=(0,30), vary=False)\n",
    "        \n",
    "    else:\n",
    "        slab.thick.setp(vary=None,constraint=(dsa_old_surface_slab[0].thick))\n",
    "        slab.rough.setp(vary=None,constraint=(dsa_old_surface_slab[0].rough))\n",
    "        \n",
    "    slab.sld.birefringence.setp(-0.003761757, bounds=(-0.01, 0.01), vary=True)\n",
    "    slab.sld.dichroism.setp(-0.003516265, bounds=(-0.01, 0.01), vary=True)\n",
    "    \n",
    "    slab.sld.delta.setp(vary=None, constraint=(dsa_old_bulk_slab[i].sld.delta))\n",
    "    slab.sld.beta.setp(vary=None, constraint=(dsa_old_bulk_slab[i].sld.beta))\n",
    "    \n",
    "    slab.sld.xx.setp(vary=None, constraint=(slab.sld.delta - (1/3)*slab.sld.birefringence))\n",
    "    slab.sld.yy.setp(vary=None, constraint=(slab.sld.xx))\n",
    "    slab.sld.zz.setp(vary=None, constraint=(slab.sld.delta + (2/3)*slab.sld.birefringence))\n",
    "    slab.sld.ixx.setp(vary=None, constraint=(slab.sld.beta + (1/3)*slab.sld.dichroism))\n",
    "    slab.sld.iyy.setp(vary=None, constraint=(slab.sld.ixx))\n",
    "    slab.sld.izz.setp(vary=None, constraint=(slab.sld.beta - (2/3)*slab.sld.dichroism))"
   ]
  },
  {
   "cell_type": "code",
   "execution_count": 20,
   "id": "elementary-delicious",
   "metadata": {},
   "outputs": [],
   "source": [
    "for i, slab in enumerate(dsa_a_substrate_slab):\n",
    "    if i == 0:\n",
    "        slab.thick.setp(bounds=(0,600), vary=True)\n",
    "        slab.rough.setp(bounds=(0,30), vary=True)\n",
    "        \n",
    "    else:\n",
    "        slab.thick.setp(vary=None,constraint=(dsa_a_surface_slab[0].thick))\n",
    "        slab.rough.setp(vary=None,constraint=(dsa_a_surface_slab[0].rough))\n",
    "        \n",
    "    slab.sld.birefringence.setp(bounds=(-0.01, 0.01), vary=True)\n",
    "    slab.sld.dichroism.setp(bounds=(-0.01, 0.01), vary=True)\n",
    "    \n",
    "    slab.sld.delta.setp(vary=None, constraint=(dsa_a_bulk_slab[i].sld.delta))\n",
    "    slab.sld.beta.setp(vary=None, constraint=(dsa_a_bulk_slab[i].sld.beta))\n",
    "    \n",
    "    slab.sld.xx.setp(vary=None, constraint=(slab.sld.delta - (1/3)*slab.sld.birefringence))\n",
    "    slab.sld.yy.setp(vary=None, constraint=(slab.sld.xx))\n",
    "    slab.sld.zz.setp(vary=None, constraint=(slab.sld.delta + (2/3)*slab.sld.birefringence))\n",
    "    slab.sld.ixx.setp(vary=None, constraint=(slab.sld.beta + (1/3)*slab.sld.dichroism))\n",
    "    slab.sld.iyy.setp(vary=None, constraint=(slab.sld.ixx))\n",
    "    slab.sld.izz.setp(vary=None, constraint=(slab.sld.beta - (2/3)*slab.sld.dichroism))\n",
    "    \n",
    "for i, slab in enumerate(dsa_old_substrate_slab):\n",
    "    if i == 0:\n",
    "        slab.thick.setp(bounds=(0,600), vary=True)\n",
    "        slab.rough.setp(bounds=(0,30), vary=True)\n",
    "        \n",
    "    else:\n",
    "        slab.thick.setp(vary=None,constraint=(dsa_old_surface_slab[0].thick))\n",
    "        slab.rough.setp(vary=None,constraint=(dsa_old_surface_slab[0].rough))\n",
    "        \n",
    "    slab.sld.birefringence.setp(bounds=(-0.01, 0.01), vary=True)\n",
    "    slab.sld.dichroism.setp(bounds=(-0.01, 0.01), vary=True)\n",
    "    \n",
    "    slab.sld.delta.setp(vary=None, constraint=(dsa_old_bulk_slab[i].sld.delta))\n",
    "    slab.sld.beta.setp(vary=None, constraint=(dsa_old_bulk_slab[i].sld.beta))\n",
    "    \n",
    "    slab.sld.xx.setp(vary=None, constraint=(slab.sld.delta - (1/3)*slab.sld.birefringence))\n",
    "    slab.sld.yy.setp(vary=None, constraint=(slab.sld.xx))\n",
    "    slab.sld.zz.setp(vary=None, constraint=(slab.sld.delta + (2/3)*slab.sld.birefringence))\n",
    "    slab.sld.ixx.setp(vary=None, constraint=(slab.sld.beta + (1/3)*slab.sld.dichroism))\n",
    "    slab.sld.iyy.setp(vary=None, constraint=(slab.sld.ixx))\n",
    "    slab.sld.izz.setp(vary=None, constraint=(slab.sld.beta - (2/3)*slab.sld.dichroism))"
   ]
  },
  {
   "cell_type": "code",
   "execution_count": 21,
   "id": "close-planner",
   "metadata": {},
   "outputs": [],
   "source": [
    "for i, slab in enumerate(sio2_slab):\n",
    "    if i == 0:\n",
    "        slab.thick.setp(vary=True, bounds=(1, 25))\n",
    "        slab.rough.setp(vary=True, bounds=(1, 20))\n",
    "        slab.sld.density.setp(vary=False, bounds=(2, 3.5))\n",
    "\n",
    "    else:\n",
    "        slab.thick.setp(vary=None, constraint=(sio2_slab[0].thick))\n",
    "        slab.rough.setp(vary=None, constraint=(sio2_slab[0].rough))\n",
    "    \n",
    "    #else:\n",
    "    #    slab.thick.setp(vary=None, constraint=(sio2_slab[0].thick))\n",
    "    #    slab.rough.setp(vary=None, constraint=(sio2_slab[0].rough))\n",
    "    #    slab.sld.density.setp(vary=None, constraint=(sio2_slab[0].sld.density))\n",
    "    \n",
    "for slab in si_slab:\n",
    "    slab.thick.setp(vary=False)\n",
    "    slab.rough.setp(vary=False)\n",
    "    \n",
    "for slab in inter:\n",
    "    slab.rough.setp(vary=False)\n",
    "    slab.thick.setp(vary=False)\n",
    "    slab.sld.xx.setp(vary=True, bounds=(0, 0.1))\n",
    "    slab.sld.ixx.setp(vary=True, bounds=(0,0.1))\n",
    "    slab.sld.yy.setp(vary=None, constraint=(slab.sld.xx))\n",
    "    slab.sld.iyy.setp(vary=None, constraint=(slab.sld.ixx))\n",
    "    slab.sld.zz.setp(vary=None, constraint=(slab.sld.xx))\n",
    "    slab.sld.izz.setp(vary=None, constraint=(slab.sld.ixx))\n",
    "    "
   ]
  },
  {
   "cell_type": "code",
   "execution_count": 22,
   "id": "disciplinary-concentration",
   "metadata": {},
   "outputs": [],
   "source": [
    "\"\"\"\n",
    "Other inputs for scattering model\n",
    "\"\"\"\n",
    "#q-smearing\n",
    "dq = 0\n",
    "\n",
    "#Use multiplicative scale parameter\n",
    "scale_param = True\n",
    "scale_lb = 0.6\n",
    "scale_ub = 2\n",
    "\n",
    "#Use additive background parameter\n",
    "bkg_param = False\n",
    "bkg_lb = 1e-9\n",
    "bkg_ub = 9e-6\n"
   ]
  },
  {
   "cell_type": "code",
   "execution_count": 23,
   "id": "dedicated-efficiency",
   "metadata": {},
   "outputs": [],
   "source": [
    "##Create the objective\n",
    "#model_s = []\n",
    "#model_p = []\n",
    "model_c = []\n",
    "model_a = []\n",
    "model_as = []\n",
    "model_ap = []\n",
    "\n",
    "model_old = []\n",
    "for i, en in enumerate(energy_list):\n",
    "    #model_s.append(ani_ReflectModel(structure[i], scale=1, bkg=0, dq=dq, energy=en, pol='s', name=('En_s_'+str(i))))\n",
    "    #model_p.append(ani_ReflectModel(structure[i], scale=1, bkg=0, dq=dq, energy=en, pol='p', name=('En_p_'+str(i))))\n",
    "    model_c.append(ani_ReflectModel(structure_c[i], scale=1, bkg=0, dq=dq, energy=en, pol='fit', name=('samp_c_en'+str(i))))\n",
    "    model_a.append(ani_ReflectModel(structure_a[i], scale=1, bkg=0, dq=dq, energy=en, pol='fit', name=('samp_a_en'+str(i))))\n",
    "    model_old.append(ani_ReflectModel(structure_old[i], scale=1, bkg=0, dq=dq, energy=en, pol='fit', name=('samp_old_en'+str(i))))\n",
    "    \n",
    "    model_as.append(ani_ReflectModel(structure_a[i], scale=1, bkg=0, dq=dq, energy=en, pol='s', name=('samp_a_en'+str(i))))\n",
    "    model_ap.append(ani_ReflectModel(structure_a[i], scale=1, bkg=0, dq=dq, energy=en, pol='p', name=('samp_a_en'+str(i))))\n",
    "\n",
    "#for m in model_old:\n",
    "#    m.scale.setp(bounds=(scale_lb, scale_ub), vary=scale_param)\n",
    "    #m.bkg.setp(bounds=(bkg_lb, bkg_ub), vary=bkg_param)\n",
    "#for m in model_a:\n",
    "#    m.scale.setp(bounds=(scale_lb, scale_ub), vary=scale_param)\n",
    "#    m.bkg.setp(bounds=(bkg_lb, bkg_ub), vary=bkg_param)\n",
    "    \n",
    "for m in model_as:\n",
    "    m.scale.setp(bounds=(scale_lb, scale_ub), vary=scale_param)\n",
    "    m.bkg.setp(bounds=(bkg_lb, bkg_ub), vary=bkg_param)\n",
    "    \n",
    "for m in model_ap:\n",
    "    m.scale.setp(bounds=(scale_lb, scale_ub), vary=scale_param)\n",
    "    m.bkg.setp(bounds=(bkg_lb, bkg_ub), vary=bkg_param)\n",
    "    \n",
    "obj_c = []\n",
    "obj_a = []\n",
    "\n",
    "obj_as = []\n",
    "obj_ap = []\n",
    "\n",
    "obj_old = []\n",
    "for i in range(len(energy_list)):\n",
    "\n",
    "    #obj_s = Objective(model_s[i], data_list_s[i], transform=Transform('logY'), name=('En'+str(i)))\n",
    "    #obj_p = Objective(model_p[i], data_list_p[i], transform=Transform('logY'), name=('En'+str(i)))\n",
    "    obj_c_temp = Objective(model_c[i], data_list_c[i], transform=Transform('logY'), name=('samp_c_en'+str(i)))\n",
    "    #obj_a_temp = Objective(model_a[i], data_list_a[i], transform=Transform('logY'), name=('samp_a_en'+str(i)))\n",
    "    obj_old_temp = Objective(model_old[i], data_list_old[i], transform=Transform('logY'), name=('samp_old_en'+str(i)))\n",
    "    \n",
    "    obj_as_temp = Objective(model_as[i], data_list_as[i], transform=Transform('logY'), name=('samp_as_en'+str(i)))\n",
    "    obj_ap_temp  = Objective(model_ap[i], data_list_ap[i], transform=Transform('logY'), name=('samp_ap_en'+str(i)))\n",
    "    \n",
    "    lpe_c = LogpExtra_rough(obj_c_temp)\n",
    "    obj_c_temp.logp_extra = lpe_c\n",
    "    #lpe_a = LogpExtra_rough1(obj_a_temp)\n",
    "    #obj_a_temp.logp_extra = lpe_a\n",
    "    \n",
    "    lpe_as = LogpExtra_rough(obj_as_temp)\n",
    "    obj_as_temp.logp_extra = lpe_as\n",
    "    lpe_ap = LogpExtra_rough(obj_ap_temp)\n",
    "    obj_ap_temp.logp_extra = lpe_ap  \n",
    "    \n",
    "    \n",
    "    lpe_old = LogpExtra_rough(obj_old_temp)\n",
    "    obj_old_temp.logp_extra = lpe_old\n",
    "\n",
    "    obj_c.append(obj_c_temp)\n",
    "    #obj_a.append(obj_a_temp)\n",
    "    obj_old.append(obj_old_temp)\n",
    "    \n",
    "    obj_as.append(obj_as_temp)\n",
    "    obj_ap.append(obj_ap_temp)\n",
    "\n",
    "objective = GlobalObjective(obj_c + obj_as + obj_ap)# + obj_old)\n",
    "#objective_a = GlobalObjective(obj_a)\n",
    "objective_old = GlobalObjective(obj_old)"
   ]
  },
  {
   "cell_type": "code",
   "execution_count": 24,
   "id": "first-baseline",
   "metadata": {},
   "outputs": [],
   "source": [
    "\"\"\"\n",
    "Settings for MCMC fit routine\n",
    "\"\"\"\n",
    "#Specify random state if you want to repeat a minimization\n",
    "#Set to None if you want a \"random\" sampling\n",
    "random_state = 11242018\n",
    "\n",
    "#Specify the number of Markov chains to run\n",
    "nchains = 150\n",
    "\n",
    "#Number of generations (samples) to run the MCMC\n",
    "nsamples = 50\n",
    "\n",
    "#Type of 'move' to use for proposal generation (see https://emcee.readthedocs.io/en/stable/user/moves/#moves-user for options)\n",
    "#Use none for default, you will need to include alternate moves in the initialization (See line 21)\n",
    "#move = [(DEMove(sigma=1e-7), 0.95), (DEMove(sigma=1e-7, gamma0=1), 0.05)]\n",
    "move = [(DEMove(sigma=1e-5), 0.98), (DEMove(sigma=1e-5, gamma0=1), 0.02)]\n",
    "\n",
    "#Name of the file you want to save the MCMC chain array as\n",
    "chain_name = 'SaveChain.txt'\n",
    "\n",
    "##Path to save all data\n",
    "savepath = path_save#'D:/P_RSoXR_fitting/TCTA_updated_data/335K/MultiEn_Fit/Fit_0038'#datapath#'C:/Users/tferr/Documents/NRC Postdoc/Projects/TCTA_Refl_fitting/TCTA_Data/TCT_335K/TCTA_250eV/'\n",
    "\n",
    "#Name to save the fitter as pkl file\n",
    "save_fitter = 'fitter.pkl'"
   ]
  },
  {
   "cell_type": "markdown",
   "id": "surprised-extent",
   "metadata": {},
   "source": [
    "#### Run Fit Procedure"
   ]
  },
  {
   "cell_type": "code",
   "execution_count": 25,
   "id": "discrete-colorado",
   "metadata": {},
   "outputs": [
    {
     "name": "stdout",
     "output_type": "stream",
     "text": [
      "Begin Fitting\n"
     ]
    }
   ],
   "source": [
    "#fitter = CurveFitter(objective, nwalkers=nchains, moves=move)\n",
    "fitter = CurveFitter(objective, nwalkers=nchains, moves=None)\n",
    "\n",
    "fitter.initialise(pos='jitter')\n",
    "print('Begin Fitting')"
   ]
  },
  {
   "cell_type": "code",
   "execution_count": 28,
   "id": "stupid-commodity",
   "metadata": {},
   "outputs": [
    {
     "data": {
      "text/plain": [
       "(<Figure size 432x288 with 1 Axes>,\n",
       " <matplotlib.axes._subplots.AxesSubplot at 0x2160e2cb808>)"
      ]
     },
     "execution_count": 28,
     "metadata": {},
     "output_type": "execute_result"
    },
    {
     "data": {
      "image/png": "[encoded data removed]",
      "text/plain": [
       "<Figure size 432x288 with 1 Axes>"
      ]
     },
     "metadata": {
      "needs_background": "light"
     },
     "output_type": "display_data"
    }
   ],
   "source": [
    "objective.objectives[1].plot()"
   ]
  },
  {
   "cell_type": "code",
   "execution_count": 29,
   "id": "silver-scale",
   "metadata": {},
   "outputs": [
    {
     "name": "stdout",
     "output_type": "stream",
     "text": [
      "________________________________________________________________________________\n",
      "Parameters:      None      \n",
      "<Parameter:'dsaph_c_bulk_en0_dt', value=-0.00328535          , bounds=[-0.01, 0.01]>\n",
      "<Parameter:'dsaph_c_bulk_en0_bire', value=8.37e-05          , bounds=[-0.01, 0.01]>\n",
      "<Parameter:'dsaph_c_bulk_en0_bxx', value=0.00171751          , bounds=[1e-09, 0.01]>\n",
      "<Parameter:'dsaph_c_bulk_en0_bzz', value=0.00185678          , bounds=[1e-09, 0.01]>\n",
      "<Parameter:'dsaph_c_bulk_en0_rough', value=8.91831          , bounds=[0.0, 200.0]>\n",
      "<Parameter: 'Alq30_thick' , value=418          , bounds=[300.0, 600.0]>\n",
      "<Parameter:  'Alq30_dt'   , value=-0.000274336          , bounds=[-0.01, 0.01]>\n",
      "<Parameter: 'Alq30_bire'  , value=6.99e-05          , bounds=[-0.01, 0.01]>\n",
      "<Parameter:  'Alq30_bxx'  , value=0.002573          , bounds=[1e-09, 0.01]>\n",
      "<Parameter:  'Alq30_bzz'  , value=0.00222952          , bounds=[1e-09, 0.01]>\n",
      "<Parameter: 'Alq30_rough' , value=7.912          , bounds=[0.0, 30.0]>\n",
      "<Parameter: 'SiO2_thick'  , value=17          , bounds=[1.0, 25.0]>\n",
      "<Parameter: 'SiO2_rough'  , value=2.5          , bounds=[1.0, 20.0]>\n",
      "<Parameter:    'scale'    , value=1          , bounds=[0.6, 2.0]>\n",
      "<Parameter:'dsaph_a_bulk_en0_bire', value=0.000154791          , bounds=[-0.01, 0.01]>\n",
      "<Parameter:'dsaph_a_bulk_en0_dichro', value=0.000343712          , bounds=[-0.01, 0.01]>\n",
      "<Parameter:'dsaph_a_bulk_en0_rough', value=8.69721          , bounds=[0.0, 200.0]>\n",
      "<Parameter: 'Alq30_thick' , value=539.782          , bounds=[300.0, 600.0]>\n",
      "<Parameter: 'Alq30_rough' , value=5.82536          , bounds=[0.0, 30.0]>\n",
      "<Parameter:    'scale'    , value=1          , bounds=[0.6, 2.0]>\n"
     ]
    }
   ],
   "source": [
    "print(objective.varying_parameters())"
   ]
  },
  {
   "cell_type": "code",
   "execution_count": 30,
   "id": "norman-louis",
   "metadata": {},
   "outputs": [],
   "source": [
    "fitter.make_sampler()"
   ]
  },
  {
   "cell_type": "code",
   "execution_count": 31,
   "id": "fitted-australian",
   "metadata": {},
   "outputs": [
    {
     "name": "stderr",
     "output_type": "stream",
     "text": [
      "100%|██████████████████████████████████████████████████████████████████████████| 15000/15000 [6:51:08<00:00,  1.64s/it]\n"
     ]
    }
   ],
   "source": [
    "chain = fitter.sample(15000, f=(os.path.join(path_save,chain_name)), random_state=random_state)"
   ]
  },
  {
   "cell_type": "code",
   "execution_count": 32,
   "id": "asian-huntington",
   "metadata": {},
   "outputs": [],
   "source": [
    "#chain=fitter.chain\n",
    "#auto=integrated_time(chain,quiet=True)\n",
    "lp=fitter.logpost"
   ]
  },
  {
   "cell_type": "code",
   "execution_count": 33,
   "id": "thick-journalist",
   "metadata": {},
   "outputs": [
    {
     "data": {
      "text/plain": [
       "Text(0.5, 0, 'Iteration [#]')"
      ]
     },
     "execution_count": 33,
     "metadata": {},
     "output_type": "execute_result"
    },
    {
     "data": {
      "image/png": "[encoded data removed]",
      "text/plain": [
       "<Figure size 432x288 with 1 Axes>"
      ]
     },
     "metadata": {
      "needs_background": "light"
     },
     "output_type": "display_data"
    }
   ],
   "source": [
    "logpost_graph = plt.figure()\n",
    "logpost_ax = logpost_graph.add_subplot()\n",
    "#logpost_ax.hlines(-loglikehood_fit,0,5000)\n",
    "logpost_ax.plot(np.abs(lp),alpha=0.5)\n",
    "#logpost_ax.plot(np.abs(lp[5754:,mask]),alpha=0.5)\n",
    "\n",
    "logpost_ax.set_ylabel('logpost',fontsize=10)\n",
    "logpost_ax.set_xlabel('Iteration [#]',fontsize=10)"
   ]
  },
  {
   "cell_type": "code",
   "execution_count": 34,
   "id": "spanish-scene",
   "metadata": {},
   "outputs": [
    {
     "name": "stdout",
     "output_type": "stream",
     "text": [
      "2846\n"
     ]
    }
   ],
   "source": [
    "logpost = fitter.logpost\n",
    "chainmin_lp = np.max(logpost, axis=0) #Where an individual chain converges\n",
    "globmin_lp = np.max(logpost) #The current global min\n",
    "#Look for the positions for the chains to reach a LOCAL MINIMA\n",
    "for nburn, array in enumerate(logpost): #Cycle through the draws to find the convergence\n",
    "    converge = np.abs(array - chainmin_lp)/np.abs(chainmin_lp) < 0.005\n",
    "    numpass = np.sum(converge)\n",
    "    if numpass/nchains > 0.95:\n",
    "        mask = np.abs(array - globmin_lp)/np.abs(globmin_lp) < 0.005 #Create a mask to remove those outside the global minima\n",
    "        break\n",
    "print(nburn)\n"
   ]
  },
  {
   "cell_type": "code",
   "execution_count": 60,
   "id": "unavailable-juvenile",
   "metadata": {},
   "outputs": [],
   "source": [
    "#with open('objective_processed.pkl', 'rb') as f:\n",
    "#    restore_obj = pickle.load(f)"
   ]
  },
  {
   "cell_type": "code",
   "execution_count": 39,
   "id": "brave-transsexual",
   "metadata": {},
   "outputs": [
    {
     "name": "stdout",
     "output_type": "stream",
     "text": [
      "32.329759284713\n"
     ]
    }
   ],
   "source": [
    "n = len(objective_processed.residuals()) # number of points\n",
    "m = (len(objective_processed.varying_parameters())) # number of varying parmeters\n",
    "print(objective_processed.chisqr()/(n-m)) # reduced chi2????"
   ]
  },
  {
   "cell_type": "code",
   "execution_count": 627,
   "id": "flexible-little",
   "metadata": {},
   "outputs": [],
   "source": [
    "#with open('fitter_July13.pkl', 'wb+') as f:\n",
    "#    pickle.dump(fitter, f)"
   ]
  },
  {
   "cell_type": "code",
   "execution_count": 35,
   "id": "approved-perth",
   "metadata": {},
   "outputs": [],
   "source": [
    "objective_processed = objective\n",
    "_ = process_chain(objective_processed, fitter.chain[:,mask,:], nburn=2846, nthin=1000, flatchain=True)"
   ]
  },
  {
   "cell_type": "code",
   "execution_count": 48,
   "id": "virtual-offense",
   "metadata": {},
   "outputs": [
    {
     "data": {
      "text/plain": [
       "(<Figure size 432x288 with 1 Axes>,\n",
       " <matplotlib.axes._subplots.AxesSubplot at 0x2162424f9c8>)"
      ]
     },
     "execution_count": 48,
     "metadata": {},
     "output_type": "execute_result"
    },
    {
     "data": {
      "image/png": "[encoded data removed]",
      "text/plain": [
       "<Figure size 432x288 with 1 Axes>"
      ]
     },
     "metadata": {
      "needs_background": "light"
     },
     "output_type": "display_data"
    }
   ],
   "source": [
    "objective_processed.objectives[2].plot()\n",
    "#plt.xlim(0,0.1)\n",
    "#plt.ylim(-5,1)"
   ]
  },
  {
   "cell_type": "code",
   "execution_count": 37,
   "id": "conservative-doubt",
   "metadata": {},
   "outputs": [
    {
     "name": "stdout",
     "output_type": "stream",
     "text": [
      "________________________________________________________________________________\n",
      "Parameters:      None      \n",
      "<Parameter:'dsaph_c_bulk_en0_dt', value=-0.00311255 +/- 2.46e-06, bounds=[-0.01, 0.01]>\n",
      "<Parameter:'dsaph_c_bulk_en0_bire', value=-0.000155372 +/- 3.32e-06, bounds=[-0.01, 0.01]>\n",
      "<Parameter:'dsaph_c_bulk_en0_bxx', value=0.00158524 +/- 3.03e-06, bounds=[1e-09, 0.01]>\n",
      "<Parameter:'dsaph_c_bulk_en0_bzz', value=0.00179355 +/- 3.55e-06, bounds=[1e-09, 0.01]>\n",
      "<Parameter:'dsaph_c_bulk_en0_rough', value=9.04472 +/- 0.00953, bounds=[0.0, 200.0]>\n",
      "<Parameter: 'Alq30_thick' , value=420.866 +/- 0.0256, bounds=[300.0, 600.0]>\n",
      "<Parameter:  'Alq30_dt'   , value=-0.000500943 +/- 5.16e-06, bounds=[-0.01, 0.01]>\n",
      "<Parameter: 'Alq30_bire'  , value=8.70709e-05 +/- 5.95e-06, bounds=[-0.01, 0.01]>\n",
      "<Parameter:  'Alq30_bxx'  , value=0.00274589 +/- 4.84e-06, bounds=[1e-09, 0.01]>\n",
      "<Parameter:  'Alq30_bzz'  , value=0.00240468 +/- 5e-06, bounds=[1e-09, 0.01]>\n",
      "<Parameter: 'Alq30_rough' , value=7.20126 +/- 0.0177, bounds=[0.0, 30.0]>\n",
      "<Parameter: 'SiO2_thick'  , value=16.5539 +/- 0.0813, bounds=[1.0, 25.0]>\n",
      "<Parameter: 'SiO2_rough'  , value=3.681 +/- 0.0334, bounds=[1.0, 20.0]>\n",
      "<Parameter:    'scale'    , value=1.24918 +/- 0.00253, bounds=[0.6, 2.0]>\n",
      "<Parameter:'dsaph_a_bulk_en0_bire', value=-3.79192e-05 +/- 6.07e-06, bounds=[-0.01, 0.01]>\n",
      "<Parameter:'dsaph_a_bulk_en0_dichro', value=-0.00028886 +/- 8.63e-06, bounds=[-0.01, 0.01]>\n",
      "<Parameter:'dsaph_a_bulk_en0_rough', value=7.99342 +/- 0.0112, bounds=[0.0, 200.0]>\n",
      "<Parameter: 'Alq30_thick' , value=538.723 +/- 0.0252, bounds=[300.0, 600.0]>\n",
      "<Parameter: 'Alq30_rough' , value=5.89591 +/- 0.0169, bounds=[0.0, 30.0]>\n",
      "<Parameter:    'scale'    , value=1.04252 +/- 0.00339, bounds=[0.6, 2.0]>\n"
     ]
    }
   ],
   "source": [
    "print(objective_processed.varying_parameters())"
   ]
  },
  {
   "cell_type": "code",
   "execution_count": 45,
   "id": "registered-relations",
   "metadata": {},
   "outputs": [
    {
     "name": "stdout",
     "output_type": "stream",
     "text": [
      "17.922392163611654\n"
     ]
    }
   ],
   "source": [
    "print(np.sqrt(2*np.pi)*14.3/2)"
   ]
  },
  {
   "cell_type": "code",
   "execution_count": 151,
   "id": "verified-mapping",
   "metadata": {},
   "outputs": [
    {
     "name": "stdout",
     "output_type": "stream",
     "text": [
      "________________________________________________________________________________\n",
      "Parameters:      None      \n",
      "<Parameter:'dsaph_surface0_thick', value=0.312656 +/- 4.18 , bounds=[0.0, 200.0]>\n",
      "<Parameter:'dsaph_surface0_bire', value=-0.00983488 +/- 0.00476, bounds=[-0.01, 0.01]>\n",
      "<Parameter:'dsaph_surface0_dichro', value=0.000758665 +/- 0.000873, bounds=[-0.01, 0.01]>\n",
      "<Parameter:'dsaph_bulk0_dt', value=-0.00300149 +/- 5.25e-06, bounds=[-0.01, 0.01]>\n",
      "<Parameter:'dsaph_bulk0_bire', value=-6.74192e-05 +/- 1.6e-05, bounds=[-0.01, 0.01]>\n",
      "<Parameter:'dsaph_bulk0_bxx', value=0.00129762 +/- 1.02e-05, bounds=[1e-09, 0.01]>\n",
      "<Parameter:'dsaph_bulk0_bzz', value=0.00182584 +/- 1.15e-05, bounds=[1e-09, 0.01]>\n",
      "<Parameter:'dsaph_bulk0_rough', value=9.35384 +/- 3.61 , bounds=[0.0, 50.0]>\n",
      "<Parameter:'alq3_bulk0_thick', value=421.882 +/- 0.0793, bounds=[300.0, 600.0]>\n",
      "<Parameter:'alq3_bulk0_dt', value=-0.000658579 +/- 1.1e-05, bounds=[-0.01, 0.01]>\n",
      "<Parameter:'alq3_bulk0_bire', value=0.000521605 +/- 1.76e-05, bounds=[-0.01, 0.01]>\n",
      "<Parameter:'alq3_bulk0_bxx', value=0.00201116 +/- 1.16e-05, bounds=[1e-09, 0.01]>\n",
      "<Parameter:'alq3_bulk0_bzz', value=0.00209637 +/- 4.05e-05, bounds=[1e-09, 0.01]>\n",
      "<Parameter:'alq3_bulk0_rough', value=7.30895 +/- 0.0491, bounds=[0.0, 30.0]>\n"
     ]
    }
   ],
   "source": [
    "print(objective_processed.varying_parameters())"
   ]
  },
  {
   "cell_type": "code",
   "execution_count": 173,
   "id": "loaded-maryland",
   "metadata": {},
   "outputs": [
    {
     "name": "stdout",
     "output_type": "stream",
     "text": [
      "________________________________________________________________________________\n",
      "Parameters:      None      \n",
      "<Parameter:'dsaph_surface0_thick', value=0.00817945 +/- 0.0102, bounds=[0.0, 200.0]>\n",
      "<Parameter:'dsaph_surface0_bire', value=0.00041386 +/- 9.63e-06, bounds=[-0.01, 0.01]>\n",
      "<Parameter:'dsaph_surface0_dichro', value=-0.000774075 +/- 8.8e-06, bounds=[-0.01, 0.01]>\n",
      "<Parameter:'dsaph_bulk0_dt', value=-0.00300449 +/- 2.09e-06, bounds=[-0.01, 0.01]>\n",
      "<Parameter:'dsaph_bulk0_bire', value=-0.000112847 +/- 3.48e-06, bounds=[-0.01, 0.01]>\n",
      "<Parameter:'dsaph_bulk0_bxx', value=0.00129286 +/- 3.9e-06, bounds=[1e-09, 0.01]>\n",
      "<Parameter:'dsaph_bulk0_bzz', value=0.00178388 +/- 3.69e-06, bounds=[1e-09, 0.01]>\n",
      "<Parameter:'dsaph_bulk0_rough', value=0.11097 +/- 0.0944, bounds=[0.0, 50.0]>\n",
      "<Parameter:'alq3_bulk0_thick', value=421.78 +/- 0.0258, bounds=[300.0, 600.0]>\n",
      "<Parameter:'alq3_bulk0_dt', value=-0.000663363 +/- 4.14e-06, bounds=[-0.01, 0.01]>\n",
      "<Parameter:'alq3_bulk0_bire', value=0.000458211 +/- 6.01e-06, bounds=[-0.01, 0.01]>\n",
      "<Parameter:'alq3_bulk0_bxx', value=0.00204259 +/- 4.69e-06, bounds=[1e-09, 0.01]>\n",
      "<Parameter:'alq3_bulk0_bzz', value=0.00208239 +/- 8.01e-06, bounds=[1e-09, 0.01]>\n",
      "<Parameter:'alq3_bulk0_rough', value=7.3129 +/- 0.0188, bounds=[0.0, 30.0]>\n"
     ]
    }
   ],
   "source": [
    "print(objective_processed.varying_parameters())"
   ]
  },
  {
   "cell_type": "code",
   "execution_count": 222,
   "id": "greatest-privacy",
   "metadata": {},
   "outputs": [
    {
     "name": "stdout",
     "output_type": "stream",
     "text": [
      "________________________________________________________________________________\n",
      "Parameters:      None      \n",
      "<Parameter:'dsaph_bulk0_dt', value=-0.00308778 +/- 2.16e-06, bounds=[-0.01, 0.01]>\n",
      "<Parameter:'dsaph_bulk0_bire', value=-0.000179837 +/- 3.11e-06, bounds=[-0.01, 0.01]>\n",
      "<Parameter:'dsaph_bulk0_bxx', value=0.00160801 +/- 2.72e-06, bounds=[1e-09, 0.01]>\n",
      "<Parameter:'dsaph_bulk0_bzz', value=0.00181137 +/- 2.91e-06, bounds=[1e-09, 0.01]>\n",
      "<Parameter:'alq3_bulk0_thick', value=420.684 +/- 0.0235, bounds=[300.0, 600.0]>\n",
      "<Parameter:'alq3_bulk0_dt', value=-0.000453331 +/- 5.72e-06, bounds=[-0.01, 0.01]>\n",
      "<Parameter:'alq3_bulk0_bire', value=0.000175257 +/- 6.08e-06, bounds=[-0.01, 0.01]>\n",
      "<Parameter:'alq3_bulk0_bxx', value=0.00286515 +/- 5.1e-06, bounds=[1e-09, 0.01]>\n",
      "<Parameter:'alq3_bulk0_bzz', value=0.00261516 +/- 5.71e-06, bounds=[1e-09, 0.01]>\n",
      "<Parameter:'alq3_bulk0_rough', value=7.25532 +/- 0.0184, bounds=[0.0, 30.0]>\n",
      "<Parameter: 'SiO2_thick'  , value=21.1783 +/- 0.0547, bounds=[1.0, 25.0]>\n",
      "<Parameter:     'rho'     , value=2.6998 +/- 0.000235, bounds=[2.0, 2.7]>\n",
      "<Parameter: 'SiO2_rough'  , value=3.45808 +/- 0.0172, bounds=[1.0, 20.0]>\n"
     ]
    }
   ],
   "source": [
    "print(objective_processed.varying_parameters())"
   ]
  },
  {
   "cell_type": "code",
   "execution_count": 158,
   "id": "personal-stand",
   "metadata": {},
   "outputs": [
    {
     "name": "stdout",
     "output_type": "stream",
     "text": [
      "________________________________________________________________________________\n",
      "Parameters:      None      \n",
      "<Parameter:'dsaph_bulk0_dt', value=-0.00311977 +/- 2.26e-06, bounds=[-0.01, 0.01]>\n",
      "<Parameter:'dsaph_bulk0_bire', value=-0.000182095 +/- 2.74e-06, bounds=[-0.01, 0.01]>\n",
      "<Parameter:'dsaph_bulk0_bxx', value=0.00155667 +/- 3.64e-06, bounds=[1e-09, 0.01]>\n",
      "<Parameter:'dsaph_bulk0_bzz', value=0.00175452 +/- 3.7e-06, bounds=[1e-09, 0.01]>\n",
      "<Parameter:'alq3_bulk0_thick', value=420.515 +/- 0.031, bounds=[300.0, 600.0]>\n",
      "<Parameter:'alq3_bulk0_dt', value=-0.000604952 +/- 7.2e-06, bounds=[-0.01, 0.01]>\n",
      "<Parameter:'alq3_bulk0_bire', value=0.000198388 +/- 5.95e-06, bounds=[-0.01, 0.01]>\n",
      "<Parameter:'alq3_bulk0_bxx', value=0.00293323 +/- 8.05e-06, bounds=[1e-09, 0.01]>\n",
      "<Parameter:'alq3_bulk0_bzz', value=0.00269802 +/- 8.33e-06, bounds=[1e-09, 0.01]>\n",
      "<Parameter:'alq3_bulk0_rough', value=7.23893 +/- 0.0197, bounds=[0.0, 30.0]>\n",
      "<Parameter: 'SiO2_thick'  , value=13.8629 +/- 0.298, bounds=[1.0, 25.0]>\n",
      "<Parameter:     'rho'     , value=2.69972 +/- 0.000296, bounds=[2.0, 2.7]>\n",
      "<Parameter: 'SiO2_rough'  , value=4.33289 +/- 0.0266, bounds=[1.0, 20.0]>\n",
      "<Parameter:  'inter_dxx'  , value=0.00551506 +/- 2.98e-05, bounds=[0.0, 0.1]>\n",
      "<Parameter:  'inter_bxx'  , value=0.00298592 +/- 3.15e-05, bounds=[0.0, 0.1]>\n"
     ]
    }
   ],
   "source": [
    "print(objective_processed.varying_parameters())"
   ]
  },
  {
   "cell_type": "code",
   "execution_count": 181,
   "id": "capable-taylor",
   "metadata": {},
   "outputs": [
    {
     "name": "stdout",
     "output_type": "stream",
     "text": [
      "________________________________________________________________________________\n",
      "Parameters:      None      \n",
      "<Parameter:'dsaph_bulk0_dt', value=-0.00309809 +/- 2.3e-06, bounds=[-0.01, 0.01]>\n",
      "<Parameter:'dsaph_bulk0_bire', value=-0.000176061 +/- 3.24e-06, bounds=[-0.01, 0.01]>\n",
      "<Parameter:'dsaph_bulk0_bxx', value=0.00162336 +/- 2.85e-06, bounds=[1e-09, 0.01]>\n",
      "<Parameter:'dsaph_bulk0_bzz', value=0.00181326 +/- 3.1e-06, bounds=[1e-09, 0.01]>\n",
      "<Parameter:'alq3_bulk0_thick', value=420.145 +/- 0.0335, bounds=[300.0, 600.0]>\n",
      "<Parameter:'alq3_bulk0_dt', value=-0.000481505 +/- 6.1e-06, bounds=[-0.01, 0.01]>\n",
      "<Parameter:'alq3_bulk0_bire', value=0.00021268 +/- 6.71e-06, bounds=[-0.01, 0.01]>\n",
      "<Parameter:'alq3_bulk0_bxx', value=0.0030936 +/- 1.07e-05, bounds=[1e-09, 0.01]>\n",
      "<Parameter:'alq3_bulk0_bzz', value=0.00282905 +/- 1.05e-05, bounds=[1e-09, 0.01]>\n",
      "<Parameter:'alq3_bulk0_rough', value=7.35819 +/- 0.0204, bounds=[0.0, 30.0]>\n",
      "<Parameter: 'SiO2_thick'  , value=23.0597 +/- 0.0855, bounds=[1.0, 25.0]>\n",
      "<Parameter:     'rho'     , value=2.88782 +/- 0.00691, bounds=[2.0, 3.5]>\n",
      "<Parameter: 'SiO2_rough'  , value=3.52935 +/- 0.0143, bounds=[1.0, 20.0]>\n"
     ]
    }
   ],
   "source": [
    "print(objective_processed.varying_parameters())"
   ]
  },
  {
   "cell_type": "code",
   "execution_count": 233,
   "id": "specified-stereo",
   "metadata": {},
   "outputs": [
    {
     "name": "stdout",
     "output_type": "stream",
     "text": [
      "________________________________________________________________________________\n",
      "Parameters:      None      \n",
      "<Parameter:'dsaph_bulk0_dt', value=-0.00304786 +/- 1.92e-06, bounds=[-0.01, 0.01]>\n",
      "<Parameter:'dsaph_bulk0_bire', value=-0.000265615 +/- 2.8e-06, bounds=[-0.01, 0.01]>\n",
      "<Parameter:'dsaph_bulk0_bxx', value=0.001293 +/- 3.6e-06, bounds=[1e-09, 0.01]>\n",
      "<Parameter:'dsaph_bulk0_bzz', value=0.00171485 +/- 2.97e-06, bounds=[1e-09, 0.01]>\n",
      "<Parameter:'alq3_bulk0_thick', value=421.472 +/- 0.0245, bounds=[300.0, 600.0]>\n",
      "<Parameter:'alq3_bulk0_dt', value=-0.000820015 +/- 4.28e-06, bounds=[-0.01, 0.01]>\n",
      "<Parameter:'alq3_bulk0_bire', value=0.000274683 +/- 5.21e-06, bounds=[-0.01, 0.01]>\n",
      "<Parameter:'alq3_bulk0_bxx', value=0.00219917 +/- 4.57e-06, bounds=[1e-09, 0.01]>\n",
      "<Parameter:'alq3_bulk0_bzz', value=0.00218887 +/- 5.74e-06, bounds=[1e-09, 0.01]>\n",
      "<Parameter:'alq3_bulk0_rough', value=7.11189 +/- 0.0196, bounds=[0.0, 30.0]>\n"
     ]
    }
   ],
   "source": [
    "print(objective_processed.varying_parameters())"
   ]
  },
  {
   "cell_type": "code",
   "execution_count": 108,
   "id": "comic-apple",
   "metadata": {},
   "outputs": [
    {
     "name": "stdout",
     "output_type": "stream",
     "text": [
      "165435.27126902028\n"
     ]
    }
   ],
   "source": [
    "print(objective_processed.chisqr())"
   ]
  },
  {
   "cell_type": "code",
   "execution_count": 96,
   "id": "convertible-winner",
   "metadata": {},
   "outputs": [
    {
     "name": "stdout",
     "output_type": "stream",
     "text": [
      "________________________________________________________________________________\n",
      "Parameters:      None      \n",
      "<Parameter:'dsaph_bulk0_dt', value=-0.00295633 +/- 1.82e-06, bounds=[-0.01, 0.01]>\n",
      "<Parameter:'dsaph_bulk0_bire', value=-0.00020192 +/- 2.73e-06, bounds=[-0.01, 0.01]>\n",
      "<Parameter:'dsaph_bulk0_bxx', value=0.00104669 +/- 2.29e-06, bounds=[1e-09, 0.01]>\n",
      "<Parameter:'dsaph_bulk0_bzz', value=0.00166493 +/- 2.79e-06, bounds=[1e-09, 0.01]>\n",
      "<Parameter:'alq3_bulk0_thick', value=418.175 +/- 0.0192, bounds=[300.0, 600.0]>\n",
      "<Parameter:'alq3_bulk0_dt', value=-0.00109429 +/- 3.69e-06, bounds=[-0.01, 0.01]>\n",
      "<Parameter:'alq3_bulk0_bire', value=0.000387309 +/- 4.97e-06, bounds=[-0.01, 0.01]>\n",
      "<Parameter:'alq3_bulk0_bxx', value=0.00266787 +/- 3.62e-06, bounds=[1e-09, 0.01]>\n",
      "<Parameter:'alq3_bulk0_bzz', value=0.00272813 +/- 5.68e-06, bounds=[1e-09, 0.01]>\n",
      "<Parameter:'alq3_bulk0_rough', value=6.77655 +/- 0.0124, bounds=[0.0, 30.0]>\n",
      "<Parameter:'dsaph_bulk1_dt', value=0.000904317 +/- 7.66e-07, bounds=[-0.01, 0.01]>\n",
      "<Parameter:'dsaph_bulk1_bire', value=6.04972e-05 +/- 1.5e-06, bounds=[-0.01, 0.01]>\n",
      "<Parameter:'dsaph_bulk1_bxx', value=0.00147921 +/- 1.02e-06, bounds=[1e-09, 0.01]>\n",
      "<Parameter:'dsaph_bulk1_bzz', value=0.00155471 +/- 1.97e-06, bounds=[1e-09, 0.01]>\n",
      "<Parameter:'alq3_bulk1_dt', value=0.000629767 +/- 2.24e-06, bounds=[-0.01, 0.01]>\n",
      "<Parameter:'alq3_bulk1_bire', value=-6.92424e-05 +/- 3.69e-06, bounds=[-0.01, 0.01]>\n",
      "<Parameter:'alq3_bulk1_bxx', value=0.00252007 +/- 2.2e-06, bounds=[1e-09, 0.01]>\n",
      "<Parameter:'alq3_bulk1_bzz', value=0.00268791 +/- 3.82e-06, bounds=[1e-09, 0.01]>\n"
     ]
    }
   ],
   "source": [
    "print(objective_processed.varying_parameters())"
   ]
  },
  {
   "cell_type": "code",
   "execution_count": 192,
   "id": "going-mercy",
   "metadata": {},
   "outputs": [
    {
     "name": "stdout",
     "output_type": "stream",
     "text": [
      "________________________________________________________________________________\n",
      "Parameters:      None      \n",
      "<Parameter:'dsaph_bulk0_dt', value=-0.0030315 +/- 2.56e-06, bounds=[-0.01, 0.01]>\n",
      "<Parameter:'dsaph_bulk0_bire', value=-0.000187756 +/- 3.85e-06, bounds=[-0.01, 0.01]>\n",
      "<Parameter:'dsaph_bulk0_bxx', value=0.00161558 +/- 3.08e-06, bounds=[1e-09, 0.01]>\n",
      "<Parameter:'dsaph_bulk0_bzz', value=0.00182373 +/- 3.69e-06, bounds=[1e-09, 0.01]>\n",
      "<Parameter:'alq3_bulk0_thick', value=420.711 +/- 0.0274, bounds=[300.0, 600.0]>\n",
      "<Parameter:'alq3_bulk0_dt', value=-0.000412843 +/- 6.89e-06, bounds=[-0.01, 0.01]>\n",
      "<Parameter:'alq3_bulk0_bire', value=0.000107551 +/- 7.39e-06, bounds=[-0.01, 0.01]>\n",
      "<Parameter:'alq3_bulk0_bxx', value=0.00266343 +/- 7.67e-06, bounds=[1e-09, 0.01]>\n",
      "<Parameter:'alq3_bulk0_bzz', value=0.00242417 +/- 7.95e-06, bounds=[1e-09, 0.01]>\n",
      "<Parameter:'alq3_bulk0_rough', value=7.00475 +/- 0.0175, bounds=[0.0, 30.0]>\n",
      "<Parameter: 'SiO2_thick'  , value=17.4195 +/- 0.0562, bounds=[1.0, 25.0]>\n",
      "<Parameter:     'rho'     , value=2.37609 +/- 0.00314, bounds=[2.0, 3.5]>\n",
      "<Parameter: 'SiO2_rough'  , value=3.03534 +/- 0.0349, bounds=[1.0, 20.0]>\n",
      "<Parameter:'dsaph_bulk1_dt', value=0.000910973 +/- 1.11e-06, bounds=[-0.01, 0.01]>\n",
      "<Parameter:'dsaph_bulk1_bire', value=6.73551e-05 +/- 1.88e-06, bounds=[-0.01, 0.01]>\n",
      "<Parameter:'dsaph_bulk1_bxx', value=0.00157788 +/- 1.34e-06, bounds=[1e-09, 0.01]>\n",
      "<Parameter:'dsaph_bulk1_bzz', value=0.00155971 +/- 2.18e-06, bounds=[1e-09, 0.01]>\n",
      "<Parameter:'alq3_bulk1_dt', value=0.00125643 +/- 4.57e-06, bounds=[-0.01, 0.01]>\n",
      "<Parameter:'alq3_bulk1_bire', value=-0.00011828 +/- 5.06e-06, bounds=[-0.01, 0.01]>\n",
      "<Parameter:'alq3_bulk1_bxx', value=0.00276259 +/- 3.27e-06, bounds=[1e-09, 0.01]>\n",
      "<Parameter:'alq3_bulk1_bzz', value=0.00282881 +/- 4.78e-06, bounds=[1e-09, 0.01]>\n"
     ]
    }
   ],
   "source": [
    "print(objective_processed.varying_parameters())"
   ]
  },
  {
   "cell_type": "code",
   "execution_count": 294,
   "id": "limited-haiti",
   "metadata": {},
   "outputs": [
    {
     "name": "stdout",
     "output_type": "stream",
     "text": [
      "________________________________________________________________________________\n",
      "Parameters:      None      \n",
      "<Parameter:'dsaph_surface0_thick', value=156.03  +/- 5.8 , bounds=[0.0, 200.0]>\n",
      "<Parameter:'dsaph_surface0_bire', value=-3.1568e-05 +/- 1.82e-05, bounds=[-0.01, 0.01]>\n",
      "<Parameter:'dsaph_surface0_dichro', value=-0.00037897 +/- 2.39e-05, bounds=[-0.01, 0.01]>\n",
      "<Parameter:'dsaph_bulk0_dt', value=-0.00303821 +/- 5.86e-06, bounds=[-0.01, 0.01]>\n",
      "<Parameter:'dsaph_bulk0_bire', value=-0.000429845 +/- 2.92e-05, bounds=[-0.01, 0.01]>\n",
      "<Parameter:'dsaph_bulk0_bxx', value=0.00158534 +/- 7.76e-06, bounds=[1e-09, 0.01]>\n",
      "<Parameter:'dsaph_bulk0_bzz', value=0.00189182 +/- 1.15e-05, bounds=[1e-09, 0.01]>\n",
      "<Parameter:'dsaph_bulk0_rough', value=48.2078 +/- 2.18 , bounds=[0.0, 50.0]>\n",
      "<Parameter:'alq3_bulk0_thick', value=420.758 +/- 0.0559, bounds=[300.0, 600.0]>\n",
      "<Parameter:'alq3_bulk0_dt', value=-0.000413237 +/- 1.53e-05, bounds=[-0.01, 0.01]>\n",
      "<Parameter:'alq3_bulk0_bire', value=-2.59626e-05 +/- 2.01e-05, bounds=[-0.01, 0.01]>\n",
      "<Parameter:'alq3_bulk0_bxx', value=0.00263929 +/- 1.54e-05, bounds=[1e-09, 0.01]>\n",
      "<Parameter:'alq3_bulk0_bzz', value=0.00244177 +/- 1.74e-05, bounds=[1e-09, 0.01]>\n",
      "<Parameter:'alq3_bulk0_rough', value=7.04614 +/- 0.0361, bounds=[0.0, 30.0]>\n",
      "<Parameter: 'SiO2_thick'  , value=17.6316 +/- 0.125, bounds=[1.0, 25.0]>\n",
      "<Parameter:     'rho'     , value=2.37283 +/- 0.00695, bounds=[2.0, 3.5]>\n",
      "<Parameter: 'SiO2_rough'  , value=2.97516 +/- 0.08 , bounds=[1.0, 20.0]>\n",
      "<Parameter:'dsaph_surface1_bire', value=-2.69268e-05 +/- 6.8e-06, bounds=[-0.01, 0.01]>\n",
      "<Parameter:'dsaph_surface1_dichro', value=-3.94326e-05 +/- 6.7e-06, bounds=[-0.01, 0.01]>\n",
      "<Parameter:'dsaph_bulk1_dt', value=0.000916967 +/- 2.52e-06, bounds=[-0.01, 0.01]>\n",
      "<Parameter:'dsaph_bulk1_bire', value=0.000308295 +/- 1.38e-05, bounds=[-0.01, 0.01]>\n",
      "<Parameter:'dsaph_bulk1_bxx', value=0.00156854 +/- 4.25e-06, bounds=[1e-09, 0.01]>\n",
      "<Parameter:'dsaph_bulk1_bzz', value=0.00157627 +/- 9.03e-06, bounds=[1e-09, 0.01]>\n",
      "<Parameter:'alq3_bulk1_dt', value=0.00127501 +/- 9.9e-06, bounds=[-0.01, 0.01]>\n",
      "<Parameter:'alq3_bulk1_bire', value=2.55464e-05 +/- 1.18e-05, bounds=[-0.01, 0.01]>\n",
      "<Parameter:'alq3_bulk1_bxx', value=0.00275372 +/- 6.49e-06, bounds=[1e-09, 0.01]>\n",
      "<Parameter:'alq3_bulk1_bzz', value=0.00283645 +/- 1.29e-05, bounds=[1e-09, 0.01]>\n"
     ]
    }
   ],
   "source": [
    "print(objective_processed.varying_parameters())"
   ]
  },
  {
   "cell_type": "code",
   "execution_count": 320,
   "id": "organized-event",
   "metadata": {},
   "outputs": [
    {
     "name": "stdout",
     "output_type": "stream",
     "text": [
      "________________________________________________________________________________\n",
      "Parameters:      None      \n",
      "<Parameter:'dsaph_surface0_thick', value=199.016 +/- 1.47 , bounds=[0.0, 200.0]>\n",
      "<Parameter:'dsaph_surface0_bire', value=-5.09509e-05 +/- 1.58e-05, bounds=[-0.01, 0.01]>\n",
      "<Parameter:'dsaph_surface0_dichro', value=-0.000346459 +/- 1.91e-05, bounds=[-0.01, 0.01]>\n",
      "<Parameter:'dsaph_bulk0_dt', value=-0.00303864 +/- 4.36e-06, bounds=[-0.01, 0.01]>\n",
      "<Parameter:'dsaph_bulk0_bire', value=-0.000417463 +/- 2.47e-05, bounds=[-0.01, 0.01]>\n",
      "<Parameter:'dsaph_bulk0_bxx', value=0.00158584 +/- 6.86e-06, bounds=[1e-09, 0.01]>\n",
      "<Parameter:'dsaph_bulk0_bzz', value=0.00189514 +/- 1.09e-05, bounds=[1e-09, 0.01]>\n",
      "<Parameter:'dsaph_bulk0_rough', value=89.4918 +/- 5.27 , bounds=[0.0, 200.0]>\n",
      "<Parameter:'alq3_bulk0_thick', value=420.776 +/- 0.048, bounds=[300.0, 600.0]>\n",
      "<Parameter:'alq3_bulk0_dt', value=-0.000412096 +/- 1.13e-05, bounds=[-0.01, 0.01]>\n",
      "<Parameter:'alq3_bulk0_bire', value=-1.83907e-05 +/- 1.89e-05, bounds=[-0.01, 0.01]>\n",
      "<Parameter:'alq3_bulk0_bxx', value=0.00263873 +/- 1.38e-05, bounds=[1e-09, 0.01]>\n",
      "<Parameter:'alq3_bulk0_bzz', value=0.00244296 +/- 1.35e-05, bounds=[1e-09, 0.01]>\n",
      "<Parameter:'alq3_bulk0_rough', value=7.03721 +/- 0.0312, bounds=[0.0, 30.0]>\n",
      "<Parameter: 'SiO2_thick'  , value=17.6597 +/- 0.0874, bounds=[1.0, 25.0]>\n",
      "<Parameter:     'rho'     , value=2.37746 +/- 0.00501, bounds=[2.0, 3.5]>\n",
      "<Parameter: 'SiO2_rough'  , value=2.98453 +/- 0.0557, bounds=[1.0, 20.0]>\n",
      "<Parameter:'dsaph_surface1_bire', value=-6.60062e-05 +/- 8.56e-06, bounds=[-0.01, 0.01]>\n",
      "<Parameter:'dsaph_surface1_dichro', value=-7.16397e-05 +/- 7.77e-06, bounds=[-0.01, 0.01]>\n",
      "<Parameter:'dsaph_bulk1_dt', value=0.000917924 +/- 1.75e-06, bounds=[-0.01, 0.01]>\n",
      "<Parameter:'dsaph_bulk1_bire', value=0.000398382 +/- 1.56e-05, bounds=[-0.01, 0.01]>\n",
      "<Parameter:'dsaph_bulk1_bxx', value=0.00158306 +/- 4.44e-06, bounds=[1e-09, 0.01]>\n",
      "<Parameter:'dsaph_bulk1_bzz', value=0.00154108 +/- 1.04e-05, bounds=[1e-09, 0.01]>\n",
      "<Parameter:'alq3_bulk1_dt', value=0.00127531 +/- 7.38e-06, bounds=[-0.01, 0.01]>\n",
      "<Parameter:'alq3_bulk1_bire', value=8.01612e-05 +/- 1.18e-05, bounds=[-0.01, 0.01]>\n",
      "<Parameter:'alq3_bulk1_bxx', value=0.00276488 +/- 6.84e-06, bounds=[1e-09, 0.01]>\n",
      "<Parameter:'alq3_bulk1_bzz', value=0.0027968 +/- 1.13e-05, bounds=[1e-09, 0.01]>\n"
     ]
    }
   ],
   "source": [
    "print(objective_processed.varying_parameters())"
   ]
  },
  {
   "cell_type": "code",
   "execution_count": 345,
   "id": "productive-girlfriend",
   "metadata": {},
   "outputs": [
    {
     "name": "stdout",
     "output_type": "stream",
     "text": [
      "________________________________________________________________________________\n",
      "Parameters:      None      \n",
      "<Parameter:'dsaph_surface0_thick', value=506.358 +/- 4.84 , bounds=[0.0, 600.0]>\n",
      "<Parameter:'dsaph_surface0_bire', value=-1.18271e-05 +/- 1.46e-05, bounds=[-0.01, 0.01]>\n",
      "<Parameter:'dsaph_surface0_dichro', value=-0.000367071 +/- 2.02e-05, bounds=[-0.01, 0.01]>\n",
      "<Parameter:'dsaph_bulk0_dt', value=-0.00303851 +/- 5.68e-06, bounds=[-0.01, 0.01]>\n",
      "<Parameter:'dsaph_bulk0_bire', value=-0.000823005 +/- 5.03e-05, bounds=[-0.01, 0.01]>\n",
      "<Parameter:'dsaph_bulk0_bxx', value=0.00148627 +/- 1.41e-05, bounds=[1e-09, 0.01]>\n",
      "<Parameter:'dsaph_bulk0_bzz', value=0.00212097 +/- 2.39e-05, bounds=[1e-09, 0.01]>\n",
      "<Parameter:'dsaph_bulk0_rough', value=46.1328 +/- 3.76 , bounds=[0.0, 200.0]>\n",
      "<Parameter:'alq3_bulk0_thick', value=420.784 +/- 0.0675, bounds=[300.0, 600.0]>\n",
      "<Parameter:'alq3_bulk0_dt', value=-0.000413059 +/- 1.2e-05, bounds=[-0.01, 0.01]>\n",
      "<Parameter:'alq3_bulk0_bire', value=-0.000257945 +/- 3.38e-05, bounds=[-0.01, 0.01]>\n",
      "<Parameter:'alq3_bulk0_bxx', value=0.00260816 +/- 1.76e-05, bounds=[1e-09, 0.01]>\n",
      "<Parameter:'alq3_bulk0_bzz', value=0.00254563 +/- 1.98e-05, bounds=[1e-09, 0.01]>\n",
      "<Parameter:'alq3_bulk0_rough', value=7.07158 +/- 0.0372, bounds=[0.0, 30.0]>\n",
      "<Parameter: 'SiO2_thick'  , value=17.9767 +/- 0.107, bounds=[1.0, 25.0]>\n",
      "<Parameter:     'rho'     , value=2.38962 +/- 0.00539, bounds=[2.0, 3.5]>\n",
      "<Parameter: 'SiO2_rough'  , value=2.90268 +/- 0.0707, bounds=[1.0, 20.0]>\n",
      "<Parameter:'dsaph_surface1_bire', value=-7.66837e-05 +/- 9.17e-06, bounds=[-0.01, 0.01]>\n",
      "<Parameter:'dsaph_surface1_dichro', value=-9.19513e-05 +/- 9.35e-06, bounds=[-0.01, 0.01]>\n",
      "<Parameter:'dsaph_bulk1_dt', value=0.000918569 +/- 2.5e-06, bounds=[-0.01, 0.01]>\n",
      "<Parameter:'dsaph_bulk1_bire', value=0.000697247 +/- 2.67e-05, bounds=[-0.01, 0.01]>\n",
      "<Parameter:'dsaph_bulk1_bxx', value=0.00168435 +/- 1.4e-05, bounds=[1e-09, 0.01]>\n",
      "<Parameter:'dsaph_bulk1_bzz', value=0.00133643 +/- 2.53e-05, bounds=[1e-09, 0.01]>\n",
      "<Parameter:'alq3_bulk1_dt', value=0.00127035 +/- 9.23e-06, bounds=[-0.01, 0.01]>\n",
      "<Parameter:'alq3_bulk1_bire', value=0.000206818 +/- 1.53e-05, bounds=[-0.01, 0.01]>\n",
      "<Parameter:'alq3_bulk1_bxx', value=0.00284183 +/- 1.35e-05, bounds=[1e-09, 0.01]>\n",
      "<Parameter:'alq3_bulk1_bzz', value=0.0026058 +/- 2.5e-05, bounds=[1e-09, 0.01]>\n"
     ]
    }
   ],
   "source": [
    "print(objective_processed.varying_parameters())"
   ]
  },
  {
   "cell_type": "code",
   "execution_count": 475,
   "id": "white-visibility",
   "metadata": {},
   "outputs": [
    {
     "name": "stdout",
     "output_type": "stream",
     "text": [
      "________________________________________________________________________________\n",
      "Parameters:      None      \n",
      "<Parameter:'dsaph_c_bulk_en0_dt', value=-0.00301034   +/- 0  , bounds=[-0.01, 0.01]>\n",
      "<Parameter:'dsaph_c_bulk_en0_bire', value=-0.000144669   +/- 0  , bounds=[-0.01, 0.01]>\n",
      "<Parameter:'dsaph_c_bulk_en0_bxx', value=0.001614   +/- 0  , bounds=[1e-09, 0.01]>\n",
      "<Parameter:'dsaph_c_bulk_en0_bzz', value=0.00178399   +/- 0  , bounds=[1e-09, 0.01]>\n",
      "<Parameter:'dsaph_c_bulk_en0_rough', value=8.6846   +/- 0  , bounds=[0.0, 200.0]>\n",
      "<Parameter:'alq3_c_en0_thick', value=419.895   +/- 0  , bounds=[300.0, 600.0]>\n",
      "<Parameter:'alq3_c_en0_dt', value=-0.000576108   +/- 0  , bounds=[-0.01, 0.01]>\n",
      "<Parameter:'alq3_c_en0_bire', value=7.65603e-05   +/- 0  , bounds=[-0.01, 0.01]>\n",
      "<Parameter:'alq3_c_en0_bxx', value=0.0029204   +/- 0  , bounds=[1e-09, 0.01]>\n",
      "<Parameter:'alq3_c_en0_bzz', value=0.00256313   +/- 0  , bounds=[1e-09, 0.01]>\n",
      "<Parameter:'alq3_c_en0_rough', value=6.93405   +/- 0  , bounds=[0.0, 30.0]>\n",
      "<Parameter: 'SiO2_thick'  , value=17.5887   +/- 0  , bounds=[1.0, 25.0]>\n",
      "<Parameter: 'SiO2_rough'  , value=3.0038   +/- 0  , bounds=[1.0, 20.0]>\n",
      "<Parameter:'dsaph_c_bulk_en1_dt', value=0.00090644   +/- 0  , bounds=[-0.01, 0.01]>\n",
      "<Parameter:'dsaph_c_bulk_en1_bire', value=9.2294e-05   +/- 0  , bounds=[-0.01, 0.01]>\n",
      "<Parameter:'dsaph_c_bulk_en1_bxx', value=0.00157928   +/- 0  , bounds=[1e-09, 0.01]>\n",
      "<Parameter:'dsaph_c_bulk_en1_bzz', value=0.00156234   +/- 0  , bounds=[1e-09, 0.01]>\n",
      "<Parameter:'alq3_c_en1_dt', value=0.00111714   +/- 0  , bounds=[-0.01, 0.01]>\n",
      "<Parameter:'alq3_c_en1_bire', value=-5.32496e-05   +/- 0  , bounds=[-0.01, 0.01]>\n",
      "<Parameter:'alq3_c_en1_bxx', value=0.00288811   +/- 0  , bounds=[1e-09, 0.01]>\n",
      "<Parameter:'alq3_c_en1_bzz', value=0.00303572   +/- 0  , bounds=[1e-09, 0.01]>\n",
      "<Parameter:'dsaph_a_surface_en0_thick', value=28.2847   +/- 0  , bounds=[0.0, 600.0]>\n",
      "<Parameter:'dsaph_a_surface_en0_bire', value=0.000419694   +/- 0  , bounds=[-0.01, 0.01]>\n",
      "<Parameter:'dsaph_a_surface_en0_dichro', value=-0.00081315   +/- 0  , bounds=[-0.01, 0.01]>\n",
      "<Parameter:'dsaph_a_bulk_en0_dt', value=-0.00351335   +/- 0  , bounds=[-0.01, 0.01]>\n",
      "<Parameter:'dsaph_a_bulk_en0_bire', value=-0.000904503   +/- 0  , bounds=[-0.01, 0.01]>\n",
      "<Parameter:'dsaph_a_bulk_en0_bxx', value=0.00136025   +/- 0  , bounds=[1e-09, 0.01]>\n",
      "<Parameter:'dsaph_a_bulk_en0_bzz', value=0.00295494   +/- 0  , bounds=[1e-09, 0.01]>\n",
      "<Parameter:'dsaph_a_bulk_en0_rough', value=142.915   +/- 0  , bounds=[0.0, 200.0]>\n",
      "<Parameter:'alq3_a_en0_thick', value=539.141   +/- 0  , bounds=[300.0, 600.0]>\n",
      "<Parameter:'alq3_a_en0_rough', value=6.39169   +/- 0  , bounds=[0.0, 30.0]>\n",
      "<Parameter:'dsaph_a_surface_en1_bire', value=-0.00011302   +/- 0  , bounds=[-0.01, 0.01]>\n",
      "<Parameter:'dsaph_a_surface_en1_dichro', value=5.70794e-05   +/- 0  , bounds=[-0.01, 0.01]>\n",
      "<Parameter:'dsaph_a_bulk_en1_dt', value=0.000820024   +/- 0  , bounds=[-0.01, 0.01]>\n",
      "<Parameter:'dsaph_a_bulk_en1_bire', value=0.000121197   +/- 0  , bounds=[-0.01, 0.01]>\n",
      "<Parameter:'dsaph_a_bulk_en1_bxx', value=0.00154613   +/- 0  , bounds=[1e-09, 0.01]>\n",
      "<Parameter:'dsaph_a_bulk_en1_bzz', value=0.00229858   +/- 0  , bounds=[1e-09, 0.01]>\n"
     ]
    }
   ],
   "source": [
    "print(objective_processed.varying_parameters())"
   ]
  },
  {
   "cell_type": "code",
   "execution_count": 504,
   "id": "christian-desktop",
   "metadata": {},
   "outputs": [
    {
     "name": "stdout",
     "output_type": "stream",
     "text": [
      "________________________________________________________________________________\n",
      "Parameters:      None      \n",
      "<Parameter:'dsaph_c_bulk_en0_dt', value=-0.00301409 +/- 4.25e-06, bounds=[-0.01, 0.01]>\n",
      "<Parameter:'dsaph_c_bulk_en0_bire', value=-0.000178265 +/- 4.63e-06, bounds=[-0.01, 0.01]>\n",
      "<Parameter:'dsaph_c_bulk_en0_bxx', value=0.00157852 +/- 3.95e-06, bounds=[1e-09, 0.01]>\n",
      "<Parameter:'dsaph_c_bulk_en0_bzz', value=0.00176701 +/- 4.11e-06, bounds=[1e-09, 0.01]>\n",
      "<Parameter:'dsaph_c_bulk_en0_rough', value=8.69375 +/- 0.00988, bounds=[0.0, 200.0]>\n",
      "<Parameter:'alq3_c_en0_thick', value=420.137 +/- 0.0645, bounds=[300.0, 600.0]>\n",
      "<Parameter:'alq3_c_en0_dt', value=-0.00040439 +/- 8.13e-06, bounds=[-0.01, 0.01]>\n",
      "<Parameter:'alq3_c_en0_bire', value=5.47222e-05 +/- 9.18e-06, bounds=[-0.01, 0.01]>\n",
      "<Parameter:'alq3_c_en0_bxx', value=0.00282173 +/- 8.19e-06, bounds=[1e-09, 0.01]>\n",
      "<Parameter:'alq3_c_en0_bzz', value=0.00256016 +/- 9.46e-06, bounds=[1e-09, 0.01]>\n",
      "<Parameter:'alq3_c_en0_rough', value=7.21834 +/- 0.0185, bounds=[0.0, 30.0]>\n",
      "<Parameter: 'SiO2_thick'  , value=17.2204 +/- 0.058, bounds=[1.0, 25.0]>\n",
      "<Parameter: 'SiO2_rough'  , value=2.90594 +/- 0.0273, bounds=[1.0, 20.0]>\n",
      "<Parameter:'dsaph_c_bulk_en1_dt', value=0.000915562 +/- 1.75e-06, bounds=[-0.01, 0.01]>\n",
      "<Parameter:'dsaph_c_bulk_en1_bire', value=6.18085e-05 +/- 2.39e-06, bounds=[-0.01, 0.01]>\n",
      "<Parameter:'dsaph_c_bulk_en1_bxx', value=0.00157805 +/- 1.65e-06, bounds=[1e-09, 0.01]>\n",
      "<Parameter:'dsaph_c_bulk_en1_bzz', value=0.00155895 +/- 2.8e-06, bounds=[1e-09, 0.01]>\n",
      "<Parameter:'alq3_c_en1_dt', value=0.00119577 +/- 9.54e-06, bounds=[-0.01, 0.01]>\n",
      "<Parameter:'alq3_c_en1_bire', value=-0.00020578 +/- 1.78e-05, bounds=[-0.01, 0.01]>\n",
      "<Parameter:'alq3_c_en1_bxx', value=0.00288114 +/- 3.77e-06, bounds=[1e-09, 0.01]>\n",
      "<Parameter:'alq3_c_en1_bzz', value=0.00291579 +/- 5.44e-06, bounds=[1e-09, 0.01]>\n",
      "<Parameter:'dsaph_a_surface_en0_thick', value=11.2041 +/- 0.0425, bounds=[0.0, 600.0]>\n",
      "<Parameter:'dsaph_a_surface_en0_bire', value=0.000335958 +/- 3.99e-05, bounds=[-0.01, 0.01]>\n",
      "<Parameter:'dsaph_a_surface_en0_dichro', value=-0.000491056 +/- 4.86e-05, bounds=[-0.01, 0.01]>\n",
      "<Parameter:'dsaph_a_bulk_en0_dt', value=-0.00350337 +/- 4.35e-06, bounds=[-0.01, 0.01]>\n",
      "<Parameter:'dsaph_a_bulk_en0_bire', value=-0.000416877 +/- 3.64e-05, bounds=[-0.01, 0.01]>\n",
      "<Parameter:'dsaph_a_bulk_en0_bxx', value=0.00150835 +/- 8.25e-06, bounds=[1e-09, 0.01]>\n",
      "<Parameter:'dsaph_a_bulk_en0_bzz', value=0.00254692 +/- 1.75e-05, bounds=[1e-09, 0.01]>\n",
      "<Parameter:'dsaph_a_bulk_en0_rough', value=106.829  +/- 19  , bounds=[0.0, 200.0]>\n",
      "<Parameter:'alq3_a_en0_thick', value=539.131 +/- 0.0514, bounds=[300.0, 600.0]>\n",
      "<Parameter:'alq3_a_en0_rough', value=6.02841 +/- 0.0184, bounds=[0.0, 30.0]>\n",
      "<Parameter:'dsaph_a_surface_en1_bire', value=0.000934814 +/- 5.66e-05, bounds=[-0.01, 0.01]>\n",
      "<Parameter:'dsaph_a_surface_en1_dichro', value=0.00066019 +/- 0.000112, bounds=[-0.01, 0.01]>\n",
      "<Parameter:'dsaph_a_bulk_en1_dt', value=0.00077191 +/- 1.36e-05, bounds=[-0.01, 0.01]>\n",
      "<Parameter:'dsaph_a_bulk_en1_bire', value=-0.000693158 +/- 9.08e-05, bounds=[-0.01, 0.01]>\n",
      "<Parameter:'dsaph_a_bulk_en1_bxx', value=0.00154581 +/- 6.92e-06, bounds=[1e-09, 0.01]>\n",
      "<Parameter:'dsaph_a_bulk_en1_bzz', value=0.00209158 +/- 5.97e-05, bounds=[1e-09, 0.01]>\n"
     ]
    }
   ],
   "source": [
    "print(objective_processed.varying_parameters())"
   ]
  },
  {
   "cell_type": "code",
   "execution_count": 541,
   "id": "decimal-pennsylvania",
   "metadata": {},
   "outputs": [
    {
     "name": "stdout",
     "output_type": "stream",
     "text": [
      "________________________________________________________________________________\n",
      "Parameters:      None      \n",
      "<Parameter:'dsaph_c_bulk_en0_dt', value=-0.00298899 +/- 2.76e-05, bounds=[-0.01, 0.01]>\n",
      "<Parameter:'dsaph_c_bulk_en0_bire', value=-0.000152667 +/- 2.65e-05, bounds=[-0.01, 0.01]>\n",
      "<Parameter:'dsaph_c_bulk_en0_bxx', value=0.00160358 +/- 2.75e-05, bounds=[1e-09, 0.01]>\n",
      "<Parameter:'dsaph_c_bulk_en0_bzz', value=0.00179269 +/- 2.74e-05, bounds=[1e-09, 0.01]>\n",
      "<Parameter:'dsaph_c_bulk_en0_rough', value=8.91682 +/- 0.00678, bounds=[0.0, 200.0]>\n",
      "<Parameter:'alq3_c_en0_thick', value=420.139 +/- 0.0224, bounds=[300.0, 600.0]>\n",
      "<Parameter:'alq3_c_en0_dt', value=-0.000377771 +/- 2.73e-05, bounds=[-0.01, 0.01]>\n",
      "<Parameter:'alq3_c_en0_bire', value=8.15442e-05 +/- 2.84e-05, bounds=[-0.01, 0.01]>\n",
      "<Parameter:'alq3_c_en0_bxx', value=0.0028463 +/- 2.71e-05, bounds=[1e-09, 0.01]>\n",
      "<Parameter:'alq3_c_en0_bzz', value=0.00258447 +/- 2.71e-05, bounds=[1e-09, 0.01]>\n",
      "<Parameter:'alq3_c_en0_rough', value=7.21952 +/- 0.0155, bounds=[0.0, 30.0]>\n",
      "<Parameter: 'SiO2_thick'  , value=17.2212 +/- 0.0393, bounds=[1.0, 25.0]>\n",
      "<Parameter: 'SiO2_rough'  , value=2.90578 +/- 0.0233, bounds=[1.0, 20.0]>\n",
      "<Parameter:'dsaph_c_bulk_en1_dt', value=0.00094139 +/- 2.74e-05, bounds=[-0.01, 0.01]>\n",
      "<Parameter:'dsaph_c_bulk_en1_bire', value=8.73173e-05 +/- 2.7e-05, bounds=[-0.01, 0.01]>\n",
      "<Parameter:'dsaph_c_bulk_en1_bxx', value=0.00160353 +/- 2.7e-05, bounds=[1e-09, 0.01]>\n",
      "<Parameter:'dsaph_c_bulk_en1_bzz', value=0.00158472 +/- 2.73e-05, bounds=[1e-09, 0.01]>\n",
      "<Parameter:'alq3_c_en1_dt', value=0.0012217 +/- 2.67e-05, bounds=[-0.01, 0.01]>\n",
      "<Parameter:'alq3_c_en1_bire', value=-0.000179686 +/- 2.76e-05, bounds=[-0.01, 0.01]>\n",
      "<Parameter:'alq3_c_en1_bxx', value=0.00290609 +/- 2.71e-05, bounds=[1e-09, 0.01]>\n",
      "<Parameter:'alq3_c_en1_bzz', value=0.00294134 +/- 2.72e-05, bounds=[1e-09, 0.01]>\n",
      "<Parameter:'dsaph_a_surface_en0_thick', value=11.2989 +/- 0.179, bounds=[0.0, 600.0]>\n",
      "<Parameter:'dsaph_a_surface_en0_bire', value=0.000356045 +/- 2.34e-05, bounds=[-0.01, 0.01]>\n",
      "<Parameter:'dsaph_a_surface_en0_dichro', value=-0.000476233 +/- 2.33e-05, bounds=[-0.01, 0.01]>\n",
      "<Parameter:'dsaph_a_bulk_en0_dt', value=-0.00347626 +/- 2.74e-05, bounds=[-0.01, 0.01]>\n",
      "<Parameter:'dsaph_a_bulk_en0_bire', value=-0.000389043 +/- 3.1e-05, bounds=[-0.01, 0.01]>\n",
      "<Parameter:'dsaph_a_bulk_en0_bxx', value=0.00153357 +/- 2.67e-05, bounds=[1e-09, 0.01]>\n",
      "<Parameter:'dsaph_a_bulk_en0_bzz', value=0.00257195 +/- 2.76e-05, bounds=[1e-09, 0.01]>\n",
      "<Parameter:'dsaph_a_bulk_en0_rough', value=8.89264 +/- 0.0831, bounds=[0.0, 200.0]>\n",
      "<Parameter:'alq3_a_en0_thick', value=539.132 +/- 0.0186, bounds=[300.0, 600.0]>\n",
      "<Parameter:'alq3_a_en0_rough', value=6.02617 +/- 0.0127, bounds=[0.0, 30.0]>\n",
      "<Parameter:'dsaph_a_surface_en1_bire', value=0.000950546 +/- 2.23e-05, bounds=[-0.01, 0.01]>\n",
      "<Parameter:'dsaph_a_surface_en1_dichro', value=0.000670628 +/- 3.07e-05, bounds=[-0.01, 0.01]>\n",
      "<Parameter:'dsaph_a_bulk_en1_dt', value=0.000796379 +/- 2.66e-05, bounds=[-0.01, 0.01]>\n",
      "<Parameter:'dsaph_a_bulk_en1_bire', value=-0.000666453 +/- 2.84e-05, bounds=[-0.01, 0.01]>\n",
      "<Parameter:'dsaph_a_bulk_en1_bxx', value=0.0015725 +/- 2.75e-05, bounds=[1e-09, 0.01]>\n",
      "<Parameter:'dsaph_a_bulk_en1_bzz', value=0.0021172 +/- 2.71e-05, bounds=[1e-09, 0.01]>\n"
     ]
    }
   ],
   "source": [
    "print(objective_processed.varying_parameters())"
   ]
  },
  {
   "cell_type": "code",
   "execution_count": 552,
   "id": "invalid-causing",
   "metadata": {},
   "outputs": [
    {
     "name": "stdout",
     "output_type": "stream",
     "text": [
      "________________________________________________________________________________\n",
      "Parameters:      None      \n",
      "<Parameter:'dsaph_c_bulk_en0_dt', value=-0.00299974 +/- 2.34e-06, bounds=[-0.01, 0.01]>\n",
      "<Parameter:'dsaph_c_bulk_en0_bire', value=-0.000179989 +/- 3.81e-06, bounds=[-0.01, 0.01]>\n",
      "<Parameter:'dsaph_c_bulk_en0_bxx', value=0.0016087 +/- 2.75e-06, bounds=[1e-09, 0.01]>\n",
      "<Parameter:'dsaph_c_bulk_en0_bzz', value=0.00178801 +/- 3.33e-06, bounds=[1e-09, 0.01]>\n",
      "<Parameter:'dsaph_c_bulk_en0_rough', value=8.71964 +/- 0.00698, bounds=[0.0, 200.0]>\n",
      "<Parameter:'alq3_c_en0_thick', value=420.044 +/- 0.0206, bounds=[300.0, 600.0]>\n",
      "<Parameter:'alq3_c_en0_dt', value=-0.000407017 +/- 4.85e-06, bounds=[-0.01, 0.01]>\n",
      "<Parameter:'alq3_c_en0_bire', value=6.94945e-05 +/- 6.62e-06, bounds=[-0.01, 0.01]>\n",
      "<Parameter:'alq3_c_en0_bxx', value=0.00287938 +/- 4.32e-06, bounds=[1e-09, 0.01]>\n",
      "<Parameter:'alq3_c_en0_bzz', value=0.00253604 +/- 5.48e-06, bounds=[1e-09, 0.01]>\n",
      "<Parameter:'alq3_c_en0_rough', value=6.99443 +/- 0.0147, bounds=[0.0, 30.0]>\n",
      "<Parameter: 'SiO2_thick'  , value=17.9162 +/- 0.0267, bounds=[1.0, 25.0]>\n",
      "<Parameter: 'SiO2_rough'  , value=2.42428 +/- 0.0182, bounds=[1.0, 20.0]>\n",
      "<Parameter:'dsaph_c_bulk_en1_dt', value=0.000917138 +/- 9.65e-07, bounds=[-0.01, 0.01]>\n",
      "<Parameter:'dsaph_c_bulk_en1_bire', value=7.94822e-05 +/- 1.84e-06, bounds=[-0.01, 0.01]>\n",
      "<Parameter:'dsaph_c_bulk_en1_bxx', value=0.00158515 +/- 1.37e-06, bounds=[1e-09, 0.01]>\n",
      "<Parameter:'dsaph_c_bulk_en1_bzz', value=0.00158182 +/- 2.18e-06, bounds=[1e-09, 0.01]>\n",
      "<Parameter:'alq3_c_en1_dt', value=0.00116838 +/- 2.65e-06, bounds=[-0.01, 0.01]>\n",
      "<Parameter:'alq3_c_en1_bire', value=-0.000108763 +/- 4.31e-06, bounds=[-0.01, 0.01]>\n",
      "<Parameter:'alq3_c_en1_bxx', value=0.00276649 +/- 2.33e-06, bounds=[1e-09, 0.01]>\n",
      "<Parameter:'alq3_c_en1_bzz', value=0.00301596 +/- 3.93e-06, bounds=[1e-09, 0.01]>\n",
      "<Parameter:'dsaph_a_surface_en0_thick', value=11.1783 +/- 0.00139, bounds=[0.0, 600.0]>\n",
      "<Parameter:'dsaph_a_surface_en0_bire', value=5.51886e-07 +/- 7.81e-06, bounds=[-0.01, 0.01]>\n",
      "<Parameter:'dsaph_a_surface_en0_dichro', value=-0.00033297 +/- 1.07e-05, bounds=[-0.01, 0.01]>\n",
      "<Parameter:'dsaph_a_bulk_en0_dt', value=-0.00341935 +/- 3.13e-06, bounds=[-0.01, 0.01]>\n",
      "<Parameter:'dsaph_a_bulk_en0_bire', value=0.000178541 +/- 8.34e-06, bounds=[-0.01, 0.01]>\n",
      "<Parameter:'dsaph_a_bulk_en0_bxx', value=0.00170842 +/- 5.71e-06, bounds=[1e-09, 0.01]>\n",
      "<Parameter:'dsaph_a_bulk_en0_bzz', value=0.00192023 +/- 9.24e-06, bounds=[1e-09, 0.01]>\n",
      "<Parameter:'dsaph_a_bulk_en0_rough', value=0.119306 +/- 0.119, bounds=[0.0, 200.0]>\n",
      "<Parameter:'alq3_a_en0_thick', value=538.587 +/- 0.0204, bounds=[300.0, 600.0]>\n",
      "<Parameter:'alq3_a_en0_rough', value=5.81909 +/- 0.015, bounds=[0.0, 30.0]>\n",
      "<Parameter:'dsaph_a_surface_en1_bire', value=-0.000177137 +/- 4.45e-06, bounds=[-0.01, 0.01]>\n",
      "<Parameter:'dsaph_a_surface_en1_dichro', value=0.000475251 +/- 5.7e-06, bounds=[-0.01, 0.01]>\n",
      "<Parameter:'dsaph_a_bulk_en1_dt', value=0.000877571 +/- 1.37e-06, bounds=[-0.01, 0.01]>\n",
      "<Parameter:'dsaph_a_bulk_en1_bire', value=-0.000337491 +/- 4.02e-06, bounds=[-0.01, 0.01]>\n",
      "<Parameter:'dsaph_a_bulk_en1_bxx', value=0.00169819 +/- 1.44e-06, bounds=[1e-09, 0.01]>\n",
      "<Parameter:'dsaph_a_bulk_en1_bzz', value=0.00167452 +/- 4.36e-06, bounds=[1e-09, 0.01]>\n"
     ]
    }
   ],
   "source": [
    "print(objective_processed.varying_parameters())"
   ]
  },
  {
   "cell_type": "code",
   "execution_count": 290,
   "id": "boring-sperm",
   "metadata": {},
   "outputs": [
    {
     "name": "stdout",
     "output_type": "stream",
     "text": [
      "________________________________________________________________________________\n",
      "Parameters:      None      \n",
      "<Parameter:'dsaph_c_bulk_en0_dt', value=-0.0031319 +/- 2.78e-06, bounds=[-0.01, 0.01]>\n",
      "<Parameter:'dsaph_c_bulk_en0_bire', value=-0.000192266 +/- 4e-06, bounds=[-0.01, 0.01]>\n",
      "<Parameter:'dsaph_c_bulk_en0_bxx', value=0.0015635 +/- 3.04e-06, bounds=[1e-09, 0.01]>\n",
      "<Parameter:'dsaph_c_bulk_en0_bzz', value=0.0017801 +/- 3.8e-06, bounds=[1e-09, 0.01]>\n",
      "<Parameter:'dsaph_c_bulk_en0_rough', value=9.0811 +/- 0.00857, bounds=[0.0, 200.0]>\n",
      "<Parameter: 'Alq30_thick' , value=421.16 +/- 0.0236, bounds=[300.0, 600.0]>\n",
      "<Parameter:  'Alq30_dt'   , value=-0.000433811 +/- 6.57e-06, bounds=[-0.01, 0.01]>\n",
      "<Parameter: 'Alq30_bire'  , value=8.6348e-05 +/- 7.73e-06, bounds=[-0.01, 0.01]>\n",
      "<Parameter:  'Alq30_bxx'  , value=0.00271007 +/- 4.3e-06, bounds=[1e-09, 0.01]>\n",
      "<Parameter:  'Alq30_bzz'  , value=0.00242348 +/- 5.08e-06, bounds=[1e-09, 0.01]>\n",
      "<Parameter: 'Alq30_rough' , value=7.36109 +/- 0.0229, bounds=[0.0, 30.0]>\n",
      "<Parameter: 'SiO2_thick'  , value=15.2875 +/- 0.0844, bounds=[1.0, 25.0]>\n",
      "<Parameter: 'SiO2_rough'  , value=4.06789 +/- 0.0334, bounds=[1.0, 20.0]>\n",
      "<Parameter:    'scale'    , value=1.28982 +/- 0.00403, bounds=[0.6, 2.0]>\n",
      "<Parameter:'dsaph_a_surface_en0_thick', value=14.4902 +/- 1.11 , bounds=[0.0, 600.0]>\n",
      "<Parameter:'dsaph_a_surface_en0_bire', value=-0.000545285 +/- 2.02e-05, bounds=[-0.01, 0.01]>\n",
      "<Parameter:'dsaph_a_surface_en0_dichro', value=0.000349002 +/- 1.64e-05, bounds=[-0.01, 0.01]>\n",
      "<Parameter:'dsaph_a_bulk_en0_bire', value=0.000439334 +/- 1.12e-05, bounds=[-0.01, 0.01]>\n",
      "<Parameter:'dsaph_a_bulk_en0_dichro', value=-0.000250128 +/- 9.55e-06, bounds=[-0.01, 0.01]>\n",
      "<Parameter:'dsaph_a_bulk_en0_rough', value=27.572 +/- 0.513, bounds=[0.0, 200.0]>\n",
      "<Parameter: 'Alq30_thick' , value=538.933 +/- 0.0233, bounds=[300.0, 600.0]>\n",
      "<Parameter: 'Alq30_rough' , value=6.99396 +/- 0.0235, bounds=[0.0, 30.0]>\n",
      "<Parameter:    'scale'    , value=1.15438 +/- 0.00603, bounds=[0.6, 2.0]>\n"
     ]
    }
   ],
   "source": [
    "print(objective_processed.varying_parameters())"
   ]
  },
  {
   "cell_type": "code",
   "execution_count": 38,
   "id": "latest-physics",
   "metadata": {},
   "outputs": [
    {
     "data": {
      "text/plain": [
       "1655"
      ]
     },
     "execution_count": 38,
     "metadata": {},
     "output_type": "execute_result"
    }
   ],
   "source": [
    "n = len(objective_processed.residuals())\n",
    "m = (len(objective_processed.varying_parameters()))\n",
    "n-m"
   ]
  },
  {
   "cell_type": "code",
   "execution_count": 296,
   "id": "detected-windows",
   "metadata": {},
   "outputs": [
    {
     "name": "stdout",
     "output_type": "stream",
     "text": [
      "5.42328668032693\n"
     ]
    }
   ],
   "source": [
    "print(objective.objectives[2].logp())"
   ]
  },
  {
   "cell_type": "code",
   "execution_count": 155,
   "id": "medium-stereo",
   "metadata": {},
   "outputs": [
    {
     "name": "stdout",
     "output_type": "stream",
     "text": [
      "45.318981036807976\n"
     ]
    }
   ],
   "source": [
    "print(objective_processed.objectives[0].chisqr()/1655)"
   ]
  },
  {
   "cell_type": "code",
   "execution_count": 258,
   "id": "designing-stockholm",
   "metadata": {},
   "outputs": [
    {
     "name": "stdout",
     "output_type": "stream",
     "text": [
      "28.34472765978582\n"
     ]
    }
   ],
   "source": [
    "print(objective_processed.chisqr()/1648)"
   ]
  },
  {
   "cell_type": "code",
   "execution_count": 194,
   "id": "conservative-length",
   "metadata": {},
   "outputs": [],
   "source": [
    "#print(objective_processed)"
   ]
  },
  {
   "cell_type": "code",
   "execution_count": 40,
   "id": "external-thailand",
   "metadata": {},
   "outputs": [],
   "source": [
    "zed_c, iso_c, tensor_c = structure_c[0].sld_profile()\n",
    "zed_a, iso_a, tensor_a = structure_a[0].sld_profile()\n",
    "zed_old, iso_old, tensor_old = structure_old[0].sld_profile()"
   ]
  },
  {
   "cell_type": "code",
   "execution_count": 41,
   "id": "textile-arnold",
   "metadata": {},
   "outputs": [
    {
     "data": {
      "text/plain": [
       "[<matplotlib.lines.Line2D at 0x21623ec5ec8>]"
      ]
     },
     "execution_count": 41,
     "metadata": {},
     "output_type": "execute_result"
    },
    {
     "data": {
      "image/png": "[encoded data removed]",
      "text/plain": [
       "<Figure size 432x288 with 1 Axes>"
      ]
     },
     "metadata": {
      "needs_background": "light"
     },
     "output_type": "display_data"
    }
   ],
   "source": [
    "#plt.plot(zed, iso[0], 'r', zed, iso[1], 'b', zed,tensor[0], 'r--', zed, tensor[1], 'b--',zed,tensor[4], 'r--', zed, tensor[5], 'g--')\n",
    "#plt.plot( zed_c,tensor_c[0], 'r--', zed_c, tensor_c[1], 'b--',zed_c,tensor_c[4], 'r--', zed_c, tensor_c[5], 'g--')\n",
    "#plt.plot( zed_a,tensor_a[0], 'r--', zed_a, tensor_a[1], 'b--',zed_a,tensor_a[4], 'r--', zed_a, tensor_a[5], 'g--')\n",
    "#plt.plot( zed_old,tensor_old[0], 'r--', zed_old, tensor_old[1], 'b--',zed_old,tensor_old[4], 'r--', zed_old, tensor_old[5], 'g--')\n",
    "\n",
    "plt.plot(zed_c , iso_c[0])\n",
    "#plt.xlim(950,1050)"
   ]
  },
  {
   "cell_type": "code",
   "execution_count": 45,
   "id": "sunset-frontier",
   "metadata": {},
   "outputs": [
    {
     "data": {
      "text/plain": [
       "[<matplotlib.lines.Line2D at 0x21624065c48>,\n",
       " <matplotlib.lines.Line2D at 0x21624065d88>]"
      ]
     },
     "execution_count": 45,
     "metadata": {},
     "output_type": "execute_result"
    },
    {
     "data": {
      "image/png": "[encoded data removed]",
      "text/plain": [
       "<Figure size 432x288 with 1 Axes>"
      ]
     },
     "metadata": {
      "needs_background": "light"
     },
     "output_type": "display_data"
    }
   ],
   "source": [
    "plt.plot(zed_a, iso_a[2], zed_a, iso_a[3])\n",
    "plt.plot(zed_c, iso_c[2], zed_c, iso_c[3])\n",
    "#plt.plot(zed_old, iso_old[2])#, zed_old, iso_old[3])\n",
    "#plt.xlim(400,600)"
   ]
  },
  {
   "cell_type": "code",
   "execution_count": 88,
   "id": "seasonal-lightweight",
   "metadata": {},
   "outputs": [
    {
     "data": {
      "text/plain": [
       "30092.908931010672"
      ]
     },
     "execution_count": 88,
     "metadata": {},
     "output_type": "execute_result"
    }
   ],
   "source": [
    "objective.objectives[1].chisqr()"
   ]
  },
  {
   "cell_type": "code",
   "execution_count": 189,
   "id": "shared-merit",
   "metadata": {},
   "outputs": [
    {
     "name": "stdout",
     "output_type": "stream",
     "text": [
      "n = (0.006022246539167941+0.001977621942027975j)\n"
     ]
    }
   ],
   "source": [
    "print(sio2_slab[0].sld)"
   ]
  },
  {
   "cell_type": "code",
   "execution_count": 480,
   "id": "light-cheese",
   "metadata": {},
   "outputs": [],
   "source": [
    "sio2_slab[0].sld.density.setp(2.2)"
   ]
  },
  {
   "cell_type": "code",
   "execution_count": 190,
   "id": "seven-infection",
   "metadata": {},
   "outputs": [
    {
     "name": "stdout",
     "output_type": "stream",
     "text": [
      "n = (0.00497675386922003+0.002892564099402067j)\n"
     ]
    }
   ],
   "source": [
    "print(si_slab[0].sld)"
   ]
  },
  {
   "cell_type": "code",
   "execution_count": 49,
   "id": "brown-needle",
   "metadata": {},
   "outputs": [],
   "source": [
    "from ani_reflect.data_processing import *"
   ]
  },
  {
   "cell_type": "code",
   "execution_count": 50,
   "id": "collaborative-gospel",
   "metadata": {},
   "outputs": [],
   "source": [
    "postprocess_fit(fitter, numpnts=20000)"
   ]
  },
  {
   "cell_type": "code",
   "execution_count": 51,
   "id": "improved-revelation",
   "metadata": {},
   "outputs": [],
   "source": [
    "def plot_depthprofile1(objective):\n",
    "    import pandas as pd\n",
    "    \n",
    "    for i, objective in enumerate(objective.objectives):\n",
    "        name = str(objective.name)\n",
    "        structurename = objective.model.structure.name\n",
    "        \n",
    "        savename = str(name+'_'+structurename+'_'+'_depthprofile.csv')\n",
    "        \n",
    "        datapol = [objective.model.pol] #Check what polarization is associated with the objective\n",
    "        zed, sldprof, tenprof = objective.model.structure.sld_profile() #calculate SLD profile\n",
    "        #Compile components for dataframe\n",
    "        depthprofile = {\n",
    "            'zed' : zed, 'delta_trace' : sldprof[0], 'beta_trace' : sldprof[1], 'birefringence': sldprof[2], 'dichroism' : sldprof[3],\n",
    "            'dxx' : tenprof[0], 'bxx' : tenprof[1], 'dyy' : tenprof[2], 'byy' : tenprof[3], 'dzz' : tenprof[4], 'bzz': tenprof[5]\n",
    "        }\n",
    "        df = pd.DataFrame(depthprofile)\n",
    "        df.to_csv((savename))\n",
    "        \n",
    "        #Plot results\n",
    "        \n",
    "        fig_depthprofile, ax_dp = plt.subplots(1,1, figsize=(12,8))\n",
    "        df.plot(ax=ax_dp, x='zed', y='delta_trace', color=['#0072B2'], lw=1.5)\n",
    "        df.plot(ax=ax_dp, x='zed', y='beta_trace', color=['#D55E00'], lw=1.5)        \n",
    "\n",
    "        df.plot(ax=ax_dp, x='zed', y='dxx', style=[':'], color=['#0072B2'], lw=1, legend=False); df.plot(ax=ax_dp, x='zed', y='dzz', style=['--'],color=['#0072B2'], lw=1, legend=False)\n",
    "        df.plot(ax=ax_dp, x='zed', y='bxx', style=[':'], color=['#D55E00'], lw=1, legend=False); df.plot(ax=ax_dp, x='zed', y='bzz', style=['--'], color=['#D55E00'], lw=1, legend=False)\n",
    "        \n",
    "        ax_dp.set_ylabel('Index of Refraction')\n",
    "        ax_dp.set_xlabel('Distance from surface [A]')\n",
    "        plt.legend(['delta', 'beta'])\n",
    "        plt.savefig('IndexOfRefraction_Summary_' + name + '.png',dpi=200)\n",
    "        plt.close()\n",
    "                \n",
    "        fig_orientprofile, ax_op = plt.subplots(1,1, figsize=(12,8))\n",
    "        df.plot(ax=ax_op, x='zed', y='birefringence', color=['#0072B2'])\n",
    "        df.plot(ax=ax_op, x='zed', y='dichroism', color=['#D55E00'])\n",
    "        \n",
    "        ax_op.set_xlabel('Distance from surface [A]')\n",
    "        plt.savefig('OrientationDepthProfile_Summary_' + name + '.png',dpi=200)\n",
    "        plt.close()\n"
   ]
  },
  {
   "cell_type": "code",
   "execution_count": 52,
   "id": "amino-racing",
   "metadata": {},
   "outputs": [],
   "source": [
    "#test = GlobalObjective([objective_processed])\n",
    "plot_depthprofile1(objective_processed)"
   ]
  },
  {
   "cell_type": "code",
   "execution_count": 135,
   "id": "joint-boston",
   "metadata": {},
   "outputs": [
    {
     "name": "stdout",
     "output_type": "stream",
     "text": [
      "________________________________________________________________________________\n",
      "Parameters:      None      \n",
      "<Parameter:'dsaph_c_bulk_en0_dt', value=-0.00320952 +/- 2.24e-06, bounds=[-0.01, 0.01]>\n",
      "<Parameter:'dsaph_c_bulk_en0_bire', value=-0.000111042 +/- 3.31e-06, bounds=[-0.01, 0.01]>\n",
      "<Parameter:'dsaph_c_bulk_en0_bxx', value=0.00165883 +/- 2.82e-06, bounds=[1e-09, 0.01]>\n",
      "<Parameter:'dsaph_c_bulk_en0_bzz', value=0.00184478 +/- 3.27e-06, bounds=[1e-09, 0.01]>\n",
      "<Parameter:'dsaph_c_bulk_en0_rough', value=9.23423 +/- 0.00811, bounds=[0.0, 200.0]>\n",
      "<Parameter: 'Alq30_thick' , value=421.69 +/- 0.0247, bounds=[300.0, 600.0]>\n",
      "<Parameter:  'Alq30_dt'   , value=-0.000415506 +/- 4.86e-06, bounds=[-0.01, 0.01]>\n",
      "<Parameter: 'Alq30_bire'  , value=2.0705e-05 +/- 5.42e-06, bounds=[-0.01, 0.01]>\n",
      "<Parameter:  'Alq30_bxx'  , value=0.00262813 +/- 4.58e-06, bounds=[1e-09, 0.01]>\n",
      "<Parameter:  'Alq30_bzz'  , value=0.00230336 +/- 5.17e-06, bounds=[1e-09, 0.01]>\n",
      "<Parameter: 'Alq30_rough' , value=7.2362 +/- 0.0179, bounds=[0.0, 30.0]>\n",
      "<Parameter: 'SiO2_thick'  , value=16.6652 +/- 0.0603, bounds=[1.0, 25.0]>\n",
      "<Parameter: 'SiO2_rough'  , value=3.28141 +/- 0.0265, bounds=[1.0, 20.0]>\n",
      "<Parameter:'dsaph_a_bulk_en0_bire', value=0.000103013 +/- 4.64e-06, bounds=[-0.01, 0.01]>\n",
      "<Parameter:'dsaph_a_bulk_en0_dichro', value=-0.000335785 +/- 9.64e-06, bounds=[-0.01, 0.01]>\n",
      "<Parameter:'dsaph_a_bulk_en0_rough', value=7.75406 +/- 0.0101, bounds=[0.0, 200.0]>\n",
      "<Parameter: 'Alq30_thick' , value=539.401 +/- 0.0217, bounds=[300.0, 600.0]>\n",
      "<Parameter: 'Alq30_rough' , value=5.73882 +/- 0.0176, bounds=[0.0, 30.0]>\n"
     ]
    }
   ],
   "source": [
    "print(objective.varying_parameters())"
   ]
  },
  {
   "cell_type": "markdown",
   "id": "agricultural-terrain",
   "metadata": {},
   "source": [
    "## "
   ]
  }
 ],
 "metadata": {
  "kernelspec": {
   "display_name": "Python 3",
   "language": "python",
   "name": "python3"
  },
  "language_info": {
   "codemirror_mode": {
    "name": "ipython",
    "version": 3
   },
   "file_extension": ".py",
   "mimetype": "text/x-python",
   "name": "python",
   "nbconvert_exporter": "python",
   "pygments_lexer": "ipython3",
   "version": "3.8.5"
  }
 },
 "nbformat": 4,
 "nbformat_minor": 5
}
